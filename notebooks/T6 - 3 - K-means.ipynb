{
 "cells": [
  {
   "cell_type": "markdown",
   "id": "0f49c473",
   "metadata": {},
   "source": [
    "# El método de k-means"
   ]
  },
  {
   "cell_type": "code",
   "execution_count": 1,
   "id": "7e4f80b9",
   "metadata": {},
   "outputs": [],
   "source": [
    "import numpy as np"
   ]
  },
  {
   "cell_type": "code",
   "execution_count": 3,
   "id": "bedf978a",
   "metadata": {},
   "outputs": [
    {
     "data": {
      "text/plain": [
       "array([[0.75575448, 0.09581125, 0.41311493],\n",
       "       [0.98680326, 0.24590227, 0.92009828],\n",
       "       [0.46803574, 0.87571669, 0.3672087 ],\n",
       "       [0.90053285, 0.50004004, 0.67004431],\n",
       "       [0.21922872, 0.26305994, 0.8853354 ],\n",
       "       [0.20387917, 0.32200667, 0.19812861],\n",
       "       [0.36558317, 0.6715646 , 0.0884703 ],\n",
       "       [0.97426419, 0.14919292, 0.48062767],\n",
       "       [0.43798288, 0.11292277, 0.49659342],\n",
       "       [0.98923055, 0.5679534 , 0.4068418 ],\n",
       "       [0.66189253, 0.21308882, 0.20409361],\n",
       "       [0.93093739, 0.49748242, 0.50621924],\n",
       "       [0.3776976 , 0.24542826, 0.14518824],\n",
       "       [0.24609549, 0.52781112, 0.10955048],\n",
       "       [0.61953406, 0.46180503, 0.26147323],\n",
       "       [0.29197971, 0.16151925, 0.48418209],\n",
       "       [0.5837021 , 0.47534018, 0.74065036],\n",
       "       [0.31238544, 0.93254607, 0.90957525],\n",
       "       [0.65291122, 0.40115032, 0.30736695],\n",
       "       [0.62346215, 0.2064206 , 0.55820913],\n",
       "       [0.97431096, 0.86931158, 0.12110019],\n",
       "       [0.23149074, 0.37800874, 0.73977599],\n",
       "       [0.2799638 , 0.37918813, 0.79667434],\n",
       "       [0.2104347 , 0.00234357, 0.80905997],\n",
       "       [0.3175657 , 0.40000859, 0.97905381],\n",
       "       [0.31399908, 0.43335898, 0.16059977],\n",
       "       [0.26274211, 0.25692778, 0.68583124],\n",
       "       [0.77951711, 0.20183562, 0.90299372],\n",
       "       [0.11373937, 0.85863204, 0.06089901],\n",
       "       [0.91437731, 0.46498469, 0.85050532]])"
      ]
     },
     "execution_count": 3,
     "metadata": {},
     "output_type": "execute_result"
    }
   ],
   "source": [
    "data = np.random.random(90).reshape(30,3)\n",
    "data"
   ]
  },
  {
   "cell_type": "code",
   "execution_count": 7,
   "id": "b9aa73bb",
   "metadata": {},
   "outputs": [
    {
     "data": {
      "text/plain": [
       "array([[0.93093739, 0.49748242, 0.50621924],\n",
       "       [0.65291122, 0.40115032, 0.30736695]])"
      ]
     },
     "execution_count": 7,
     "metadata": {},
     "output_type": "execute_result"
    }
   ],
   "source": [
    "c1 = np.random.choice(range(len(data)))\n",
    "c2 = np.random.choice(range(len(data)))\n",
    "clust_centers = np.vstack([data[c1], data[c2]])\n",
    "clust_centers"
   ]
  },
  {
   "cell_type": "code",
   "execution_count": 8,
   "id": "4d8cbf05",
   "metadata": {},
   "outputs": [],
   "source": [
    "from scipy.cluster.vq import vq"
   ]
  },
  {
   "cell_type": "code",
   "execution_count": 9,
   "id": "4561447c",
   "metadata": {},
   "outputs": [
    {
     "data": {
      "text/plain": [
       "(array([1, 0, 1, 0, 1, 1, 1, 0, 1, 0, 1, 0, 1, 1, 1, 1, 0, 0, 1, 1, 0, 1,\n",
       "        1, 1, 1, 1, 1, 0, 1, 0]),\n",
       " array([0.3391037 , 0.48755453, 0.51280915, 0.16664222, 0.73566093,\n",
       "        0.46885661, 0.45121729, 0.35190584, 0.40629542, 0.13505602,\n",
       "        0.21473978, 0.        , 0.35537843, 0.46975883, 0.0830618 ,\n",
       "        0.46792969, 0.41954806, 0.85707816, 0.        , 0.31891803,\n",
       "        0.53707995, 0.60424195, 0.61562476, 0.77879919, 0.75074706,\n",
       "        0.37072826, 0.56237647, 0.51746026, 0.74882725, 0.34621271]))"
      ]
     },
     "execution_count": 9,
     "metadata": {},
     "output_type": "execute_result"
    }
   ],
   "source": [
    "vq(data, clust_centers)"
   ]
  },
  {
   "cell_type": "code",
   "execution_count": 10,
   "id": "aa0ae5fc",
   "metadata": {},
   "outputs": [],
   "source": [
    "from scipy.cluster.vq import kmeans"
   ]
  },
  {
   "cell_type": "code",
   "execution_count": 11,
   "id": "b0b98410",
   "metadata": {},
   "outputs": [
    {
     "data": {
      "text/plain": [
       "(array([[0.83460612, 0.49045892, 0.65086561],\n",
       "        [0.38269862, 0.36333866, 0.43754046]]), 0.38121682378727)"
      ]
     },
     "execution_count": 11,
     "metadata": {},
     "output_type": "execute_result"
    }
   ],
   "source": [
    "kmeans(data, clust_centers)"
   ]
  },
  {
   "cell_type": "code",
   "execution_count": null,
   "id": "2874f2b6",
   "metadata": {},
   "outputs": [],
   "source": []
  }
 ],
 "metadata": {
  "kernelspec": {
   "display_name": "Python 3",
   "language": "python",
   "name": "python3"
  },
  "language_info": {
   "codemirror_mode": {
    "name": "ipython",
    "version": 3
   },
   "file_extension": ".py",
   "mimetype": "text/x-python",
   "name": "python",
   "nbconvert_exporter": "python",
   "pygments_lexer": "ipython3",
   "version": "3.5.6"
  }
 },
 "nbformat": 4,
 "nbformat_minor": 5
}
