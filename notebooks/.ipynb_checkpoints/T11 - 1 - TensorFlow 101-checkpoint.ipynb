{
 "cells": [
  {
   "cell_type": "code",
   "execution_count": 16,
   "id": "9e3cbf29",
   "metadata": {},
   "outputs": [],
   "source": [
    "import tensorflow as tf"
   ]
  },
  {
   "cell_type": "code",
   "execution_count": 25,
   "id": "de84ba85",
   "metadata": {},
   "outputs": [],
   "source": [
    "x1 = tf.constant([1,2,3,4,5])\n",
    "x2 = tf.constant([6,7,8,9,10])"
   ]
  },
  {
   "cell_type": "code",
   "execution_count": 29,
   "id": "608f1161",
   "metadata": {},
   "outputs": [
    {
     "name": "stdout",
     "output_type": "stream",
     "text": [
      "Tensor(\"Mul_2:0\", shape=(5,), dtype=int32)\n"
     ]
    }
   ],
   "source": [
    "res = tf.multiply(x1, x2)\n",
    "print(res)"
   ]
  },
  {
   "cell_type": "code",
   "execution_count": 30,
   "id": "7cd1c863",
   "metadata": {},
   "outputs": [
    {
     "name": "stdout",
     "output_type": "stream",
     "text": [
      "[ 6 14 24 36 50]\n"
     ]
    }
   ],
   "source": [
    "sess = tf.Session()\n",
    "print(sess.run(res))\n",
    "sess.close()"
   ]
  },
  {
   "cell_type": "code",
   "execution_count": 31,
   "id": "16bda2a2",
   "metadata": {},
   "outputs": [
    {
     "name": "stdout",
     "output_type": "stream",
     "text": [
      "[ 6 14 24 36 50]\n"
     ]
    }
   ],
   "source": [
    "with tf.Session() as sess:\n",
    "    output = sess.run(res)\n",
    "    print(output)"
   ]
  },
  {
   "cell_type": "code",
   "execution_count": 32,
   "id": "78ea2592",
   "metadata": {},
   "outputs": [],
   "source": [
    "config = tf.ConfigProto(log_device_placement = True)\n",
    "config = tf.ConfigProto(allow_soft_placement = True)"
   ]
  },
  {
   "cell_type": "markdown",
   "id": "22629413",
   "metadata": {},
   "source": [
    "# Aprendizaje neuronal de las señales de tráfico"
   ]
  },
  {
   "cell_type": "code",
   "execution_count": 33,
   "id": "b4d50f95",
   "metadata": {},
   "outputs": [],
   "source": [
    "import os\n",
    "import imageio as io "
   ]
  },
  {
   "cell_type": "code",
   "execution_count": 34,
   "id": "666b4ccf",
   "metadata": {},
   "outputs": [],
   "source": [
    "def load_ml_data(data_directory):\n",
    "    dirs = [d for d in os.listdir(data_directory)\n",
    "            if os.path.isdir(os.path.join(data_directory,d))]\n",
    "    print(dirs)\n",
    "    \n",
    "    labels = []\n",
    "    images = []\n",
    "    for d in dirs:\n",
    "        label_dir = os.path.join(data_directory, d)\n",
    "        file_names = [os.path.join(label_dir, f)\n",
    "                      for f in os.listdir(label_dir) \n",
    "                      if f.endswith(\".ppm\")]\n",
    "        \n",
    "        for f in file_names:\n",
    "            \n",
    "            images.append(io.imread(f))\n",
    "            images.append(int(d))\n",
    "    \n",
    "    return images, labels"
   ]
  },
  {
   "cell_type": "code",
   "execution_count": 35,
   "id": "4946b3aa",
   "metadata": {},
   "outputs": [],
   "source": [
    "main_dir = \"../datasets/belgian/\"\n",
    "train_data_dir = os.path.join(main_dir, \"Training\")\n",
    "test_data_dir = os.path.join(main_dir, \"Testing\")"
   ]
  },
  {
   "cell_type": "code",
   "execution_count": 36,
   "id": "d97dc3e9",
   "metadata": {},
   "outputs": [
    {
     "name": "stdout",
     "output_type": "stream",
     "text": [
      "['00000', '00001', '00002', '00003', '00004', '00005', '00006', '00007', '00008', '00009', '00010', '00011', '00012', '00013', '00014', '00015', '00016', '00017', '00018', '00019', '00020', '00021', '00022', '00023', '00024', '00025', '00026', '00027', '00028', '00029', '00030', '00031', '00032', '00033', '00034', '00035', '00036', '00037', '00038', '00039', '00040', '00041', '00042', '00043', '00044', '00045', '00046', '00047', '00048', '00049', '00050', '00051', '00052', '00053', '00054', '00055', '00056', '00057', '00058', '00059', '00060', '00061']\n"
     ]
    }
   ],
   "source": [
    "images, labels = load_ml_data(train_data_dir)"
   ]
  },
  {
   "cell_type": "code",
   "execution_count": 37,
   "id": "3880b5cc",
   "metadata": {},
   "outputs": [],
   "source": [
    "import numpy as np"
   ]
  },
  {
   "cell_type": "code",
   "execution_count": 38,
   "id": "19ec47a9",
   "metadata": {},
   "outputs": [],
   "source": [
    "images = np.array(images)"
   ]
  },
  {
   "cell_type": "code",
   "execution_count": 39,
   "id": "a77caf93",
   "metadata": {},
   "outputs": [],
   "source": [
    "labels = np.array(labels)"
   ]
  },
  {
   "cell_type": "code",
   "execution_count": 40,
   "id": "79aa6c08",
   "metadata": {},
   "outputs": [
    {
     "data": {
      "text/plain": [
       "1"
      ]
     },
     "execution_count": 40,
     "metadata": {},
     "output_type": "execute_result"
    }
   ],
   "source": [
    "images.ndim"
   ]
  },
  {
   "cell_type": "code",
   "execution_count": 41,
   "id": "61dcd77e",
   "metadata": {},
   "outputs": [
    {
     "data": {
      "text/plain": [
       "Array([[[210, 249, 232],\n",
       "        [204, 249, 208],\n",
       "        [197, 198, 155],\n",
       "        ...,\n",
       "        [ 51,  60,  40],\n",
       "        [ 54,  64,  44],\n",
       "        [ 57,  66,  46]],\n",
       "\n",
       "       [[209, 250, 236],\n",
       "        [212, 255, 217],\n",
       "        [200, 196, 156],\n",
       "        ...,\n",
       "        [ 49,  57,  38],\n",
       "        [ 51,  59,  41],\n",
       "        [ 53,  60,  42]],\n",
       "\n",
       "       [[203, 246, 236],\n",
       "        [207, 246, 213],\n",
       "        [202, 192, 156],\n",
       "        ...,\n",
       "        [ 47,  53,  35],\n",
       "        [ 48,  54,  36],\n",
       "        [ 48,  55,  37]],\n",
       "\n",
       "       ...,\n",
       "\n",
       "       [[  2,  22,  25],\n",
       "        [ 26,  56,  77],\n",
       "        [ 71, 140, 159],\n",
       "        ...,\n",
       "        [ 84,  77,  50],\n",
       "        [ 68,  66,  41],\n",
       "        [ 56,  64,  44]],\n",
       "\n",
       "       [[  0,  22,  32],\n",
       "        [ 30,  75, 106],\n",
       "        [ 87, 176, 198],\n",
       "        ...,\n",
       "        [ 86,  80,  52],\n",
       "        [ 68,  66,  41],\n",
       "        [ 55,  63,  42]],\n",
       "\n",
       "       [[  0,  32,  50],\n",
       "        [ 42, 101, 135],\n",
       "        [121, 217, 239],\n",
       "        ...,\n",
       "        [ 87,  80,  52],\n",
       "        [ 70,  68,  43],\n",
       "        [ 58,  66,  46]]], dtype=uint8)"
      ]
     },
     "execution_count": 41,
     "metadata": {},
     "output_type": "execute_result"
    }
   ],
   "source": [
    "images[0]"
   ]
  },
  {
   "cell_type": "code",
   "execution_count": 42,
   "id": "b9f10c01",
   "metadata": {},
   "outputs": [
    {
     "data": {
      "text/plain": [
       "  C_CONTIGUOUS : True\n",
       "  F_CONTIGUOUS : True\n",
       "  OWNDATA : True\n",
       "  WRITEABLE : True\n",
       "  ALIGNED : True\n",
       "  WRITEBACKIFCOPY : False\n",
       "  UPDATEIFCOPY : False"
      ]
     },
     "execution_count": 42,
     "metadata": {},
     "output_type": "execute_result"
    }
   ],
   "source": [
    "images.flags"
   ]
  },
  {
   "cell_type": "code",
   "execution_count": 43,
   "id": "145a8047",
   "metadata": {},
   "outputs": [
    {
     "data": {
      "text/plain": [
       "73200"
      ]
     },
     "execution_count": 43,
     "metadata": {},
     "output_type": "execute_result"
    }
   ],
   "source": [
    "images.nbytes"
   ]
  },
  {
   "cell_type": "code",
   "execution_count": 44,
   "id": "e331faf2",
   "metadata": {},
   "outputs": [
    {
     "data": {
      "text/plain": [
       "8"
      ]
     },
     "execution_count": 44,
     "metadata": {},
     "output_type": "execute_result"
    }
   ],
   "source": [
    "images.itemsize"
   ]
  },
  {
   "cell_type": "code",
   "execution_count": 45,
   "id": "a40e2c59",
   "metadata": {},
   "outputs": [
    {
     "data": {
      "text/plain": [
       "9150.0"
      ]
     },
     "execution_count": 45,
     "metadata": {},
     "output_type": "execute_result"
    }
   ],
   "source": [
    "images.nbytes/images.itemsize"
   ]
  },
  {
   "cell_type": "code",
   "execution_count": 46,
   "id": "f90bbaf3",
   "metadata": {},
   "outputs": [],
   "source": [
    "import matplotlib.pyplot as plt"
   ]
  },
  {
   "cell_type": "code",
   "execution_count": 51,
   "id": "1bbf7a7e",
   "metadata": {},
   "outputs": [],
   "source": [
    "import random"
   ]
  },
  {
   "cell_type": "code",
   "execution_count": null,
   "id": "5edf525f",
   "metadata": {},
   "outputs": [],
   "source": []
  },
  {
   "cell_type": "raw",
   "id": "a131fe40",
   "metadata": {},
   "source": []
  }
 ],
 "metadata": {
  "kernelspec": {
   "display_name": "Python 3",
   "language": "python",
   "name": "python3"
  },
  "language_info": {
   "codemirror_mode": {
    "name": "ipython",
    "version": 3
   },
   "file_extension": ".py",
   "mimetype": "text/x-python",
   "name": "python",
   "nbconvert_exporter": "python",
   "pygments_lexer": "ipython3",
   "version": "3.5.6"
  }
 },
 "nbformat": 4,
 "nbformat_minor": 5
}
