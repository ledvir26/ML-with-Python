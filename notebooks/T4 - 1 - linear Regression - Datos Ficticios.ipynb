{
 "cells": [
  {
   "cell_type": "markdown",
   "id": "6c645e35",
   "metadata": {},
   "source": [
    "# Modelos de Regresion Lineal"
   ]
  },
  {
   "cell_type": "markdown",
   "id": "cfe9ea90",
   "metadata": {},
   "source": [
    "#### Modelo con datos simulados\n",
    "* y = a + b * x\n",
    "* X: 100 valores distribuídos según una N(1.5, 2.5)\n",
    "* Ye = 5 + 1.9 * x + e\n",
    "* e estará distribuida según una N(0, 0.8)"
   ]
  },
  {
   "cell_type": "code",
   "execution_count": 1,
   "id": "46ce6df5",
   "metadata": {},
   "outputs": [],
   "source": [
    "import pandas as pd\n",
    "import numpy as np"
   ]
  },
  {
   "cell_type": "code",
   "execution_count": 49,
   "id": "db7a6ab2",
   "metadata": {},
   "outputs": [],
   "source": [
    "x = 1.5 + 2.5 * np.random.randn(100)"
   ]
  },
  {
   "cell_type": "code",
   "execution_count": 67,
   "id": "cd6b65b5",
   "metadata": {},
   "outputs": [],
   "source": [
    "res = 0 + 0.8 * np.random.randn(100)-0.4"
   ]
  },
  {
   "cell_type": "code",
   "execution_count": 68,
   "id": "cceaabd1",
   "metadata": {},
   "outputs": [],
   "source": [
    "y_pred = 5 + 1.9 * x"
   ]
  },
  {
   "cell_type": "code",
   "execution_count": 69,
   "id": "e3f58e8f",
   "metadata": {},
   "outputs": [],
   "source": [
    "y_act = 5 + 1.9 * x + res"
   ]
  },
  {
   "cell_type": "code",
   "execution_count": 70,
   "id": "d9c3b1a8",
   "metadata": {},
   "outputs": [],
   "source": [
    "x_list = x.tolist()\n",
    "y_pred_list = y_pred.tolist()\n",
    "y_act_list = y_act.tolist()"
   ]
  },
  {
   "cell_type": "code",
   "execution_count": 71,
   "id": "187fbcc5",
   "metadata": {},
   "outputs": [],
   "source": [
    "data = pd.DataFrame(\n",
    "    {\n",
    "        \"x\": x_list,\n",
    "        \"y_actual\": y_act_list,\n",
    "        \"y_prediccion\":y_pred_list\n",
    "    }\n",
    ")"
   ]
  },
  {
   "cell_type": "code",
   "execution_count": 72,
   "id": "c4f41907",
   "metadata": {},
   "outputs": [
    {
     "data": {
      "text/html": [
       "<div>\n",
       "<style scoped>\n",
       "    .dataframe tbody tr th:only-of-type {\n",
       "        vertical-align: middle;\n",
       "    }\n",
       "\n",
       "    .dataframe tbody tr th {\n",
       "        vertical-align: top;\n",
       "    }\n",
       "\n",
       "    .dataframe thead th {\n",
       "        text-align: right;\n",
       "    }\n",
       "</style>\n",
       "<table border=\"1\" class=\"dataframe\">\n",
       "  <thead>\n",
       "    <tr style=\"text-align: right;\">\n",
       "      <th></th>\n",
       "      <th>x</th>\n",
       "      <th>y_actual</th>\n",
       "      <th>y_prediccion</th>\n",
       "    </tr>\n",
       "  </thead>\n",
       "  <tbody>\n",
       "    <tr>\n",
       "      <th>0</th>\n",
       "      <td>1.233209</td>\n",
       "      <td>7.280011</td>\n",
       "      <td>7.343096</td>\n",
       "    </tr>\n",
       "    <tr>\n",
       "      <th>1</th>\n",
       "      <td>1.446045</td>\n",
       "      <td>7.882388</td>\n",
       "      <td>7.747485</td>\n",
       "    </tr>\n",
       "    <tr>\n",
       "      <th>2</th>\n",
       "      <td>5.315966</td>\n",
       "      <td>14.835656</td>\n",
       "      <td>15.100335</td>\n",
       "    </tr>\n",
       "    <tr>\n",
       "      <th>3</th>\n",
       "      <td>2.995831</td>\n",
       "      <td>10.698130</td>\n",
       "      <td>10.692080</td>\n",
       "    </tr>\n",
       "    <tr>\n",
       "      <th>4</th>\n",
       "      <td>0.644047</td>\n",
       "      <td>6.273552</td>\n",
       "      <td>6.223689</td>\n",
       "    </tr>\n",
       "  </tbody>\n",
       "</table>\n",
       "</div>"
      ],
      "text/plain": [
       "          x   y_actual  y_prediccion\n",
       "0  1.233209   7.280011      7.343096\n",
       "1  1.446045   7.882388      7.747485\n",
       "2  5.315966  14.835656     15.100335\n",
       "3  2.995831  10.698130     10.692080\n",
       "4  0.644047   6.273552      6.223689"
      ]
     },
     "execution_count": 72,
     "metadata": {},
     "output_type": "execute_result"
    }
   ],
   "source": [
    "data.head()"
   ]
  },
  {
   "cell_type": "code",
   "execution_count": 73,
   "id": "044675a7",
   "metadata": {},
   "outputs": [],
   "source": [
    "import matplotlib.pyplot as plt"
   ]
  },
  {
   "cell_type": "code",
   "execution_count": 74,
   "id": "afa09245",
   "metadata": {},
   "outputs": [],
   "source": [
    "y_mean = [np.mean(y_act) for i in range(1, len(x_list) + 1)]"
   ]
  },
  {
   "cell_type": "code",
   "execution_count": 75,
   "id": "e2a53365",
   "metadata": {},
   "outputs": [
    {
     "data": {
      "text/plain": [
       "Text(0.5, 1.0, 'Valor Actual vs Prediccón')"
      ]
     },
     "execution_count": 75,
     "metadata": {},
     "output_type": "execute_result"
    },
    {
     "data": {
      "image/png": "[encoded data removed]",
      "text/plain": [
       "<Figure size 432x288 with 1 Axes>"
      ]
     },
     "metadata": {
      "needs_background": "light"
     },
     "output_type": "display_data"
    }
   ],
   "source": [
    "%matplotlib inline\n",
    "plt.plot(x,y_pred)\n",
    "plt.plot(x, y_act, \"ro\")\n",
    "plt.plot(x,y_mean, \"g\")\n",
    "plt.title(\"Valor Actual vs Prediccón\")"
   ]
  },
  {
   "cell_type": "markdown",
   "id": "dfd3c215",
   "metadata": {},
   "source": [
    "## ¿Cómo es la predicción de buena?\n",
    "* SST = SSD + SSR \n",
    "* SST : Variabilidad de los datos con respecto a su media\n",
    "* SSD : Diferencia entre los datos origniales y las predicciones que el modelo no es capaz de explicar (errores que deberian seguir una distribución normal)\n",
    "* SSR : Diferencia entre la regresión y el valor medio que el modelo busca explicar\n",
    "* R2 = SSR / SST, coeficiente de determinación entre 0 y 1"
   ]
  },
  {
   "cell_type": "code",
   "execution_count": 76,
   "id": "9a1c6a93",
   "metadata": {},
   "outputs": [],
   "source": [
    "data[\"SSR\"] = (data[\"y_prediccion\"]-np.mean(y_act))**2\n",
    "data[\"SSD\"] = (data[\"y_prediccion\"]-data[\"y_actual\"])**2\n",
    "data[\"SST\"] = (data[\"y_actual\"]-np.mean(y_act))**2"
   ]
  },
  {
   "cell_type": "code",
   "execution_count": 85,
   "id": "f882e5ee",
   "metadata": {},
   "outputs": [
    {
     "data": {
      "text/html": [
       "<div>\n",
       "<style scoped>\n",
       "    .dataframe tbody tr th:only-of-type {\n",
       "        vertical-align: middle;\n",
       "    }\n",
       "\n",
       "    .dataframe tbody tr th {\n",
       "        vertical-align: top;\n",
       "    }\n",
       "\n",
       "    .dataframe thead th {\n",
       "        text-align: right;\n",
       "    }\n",
       "</style>\n",
       "<table border=\"1\" class=\"dataframe\">\n",
       "  <thead>\n",
       "    <tr style=\"text-align: right;\">\n",
       "      <th></th>\n",
       "      <th>x</th>\n",
       "      <th>y_actual</th>\n",
       "      <th>y_prediccion</th>\n",
       "      <th>SSR</th>\n",
       "      <th>SSD</th>\n",
       "      <th>SST</th>\n",
       "    </tr>\n",
       "  </thead>\n",
       "  <tbody>\n",
       "    <tr>\n",
       "      <th>0</th>\n",
       "      <td>1.233209</td>\n",
       "      <td>7.280011</td>\n",
       "      <td>7.343096</td>\n",
       "      <td>0.041368</td>\n",
       "      <td>0.003980</td>\n",
       "      <td>0.071009</td>\n",
       "    </tr>\n",
       "    <tr>\n",
       "      <th>1</th>\n",
       "      <td>1.446045</td>\n",
       "      <td>7.882388</td>\n",
       "      <td>7.747485</td>\n",
       "      <td>0.040400</td>\n",
       "      <td>0.018199</td>\n",
       "      <td>0.112830</td>\n",
       "    </tr>\n",
       "    <tr>\n",
       "      <th>2</th>\n",
       "      <td>5.315966</td>\n",
       "      <td>14.835656</td>\n",
       "      <td>15.100335</td>\n",
       "      <td>57.060621</td>\n",
       "      <td>0.070055</td>\n",
       "      <td>53.131978</td>\n",
       "    </tr>\n",
       "    <tr>\n",
       "      <th>3</th>\n",
       "      <td>2.995831</td>\n",
       "      <td>10.698130</td>\n",
       "      <td>10.692080</td>\n",
       "      <td>9.894752</td>\n",
       "      <td>0.000037</td>\n",
       "      <td>9.932855</td>\n",
       "    </tr>\n",
       "    <tr>\n",
       "      <th>4</th>\n",
       "      <td>0.644047</td>\n",
       "      <td>6.273552</td>\n",
       "      <td>6.223689</td>\n",
       "      <td>1.749796</td>\n",
       "      <td>0.002486</td>\n",
       "      <td>1.620363</td>\n",
       "    </tr>\n",
       "  </tbody>\n",
       "</table>\n",
       "</div>"
      ],
      "text/plain": [
       "          x   y_actual  y_prediccion        SSR       SSD        SST\n",
       "0  1.233209   7.280011      7.343096   0.041368  0.003980   0.071009\n",
       "1  1.446045   7.882388      7.747485   0.040400  0.018199   0.112830\n",
       "2  5.315966  14.835656     15.100335  57.060621  0.070055  53.131978\n",
       "3  2.995831  10.698130     10.692080   9.894752  0.000037   9.932855\n",
       "4  0.644047   6.273552      6.223689   1.749796  0.002486   1.620363"
      ]
     },
     "execution_count": 85,
     "metadata": {},
     "output_type": "execute_result"
    }
   ],
   "source": [
    "data.head()"
   ]
  },
  {
   "cell_type": "code",
   "execution_count": null,
   "id": "5545dc3c",
   "metadata": {},
   "outputs": [],
   "source": []
  },
  {
   "cell_type": "code",
   "execution_count": 77,
   "id": "909d4099",
   "metadata": {},
   "outputs": [],
   "source": [
    "SSR = sum(data[\"SSR\"])\n",
    "SSD = sum(data[\"SSD\"])\n",
    "SST = sum(data[\"SST\"])"
   ]
  },
  {
   "cell_type": "code",
   "execution_count": 78,
   "id": "00889820",
   "metadata": {},
   "outputs": [
    {
     "data": {
      "text/plain": [
       "2283.9259295703264"
      ]
     },
     "execution_count": 78,
     "metadata": {},
     "output_type": "execute_result"
    }
   ],
   "source": [
    "SSR"
   ]
  },
  {
   "cell_type": "code",
   "execution_count": 79,
   "id": "b7043606",
   "metadata": {},
   "outputs": [
    {
     "data": {
      "text/plain": [
       "82.04943751396384"
      ]
     },
     "execution_count": 79,
     "metadata": {},
     "output_type": "execute_result"
    }
   ],
   "source": [
    "SSD"
   ]
  },
  {
   "cell_type": "code",
   "execution_count": 80,
   "id": "d5f9c5aa",
   "metadata": {},
   "outputs": [
    {
     "data": {
      "text/plain": [
       "2420.2619017904362"
      ]
     },
     "execution_count": 80,
     "metadata": {},
     "output_type": "execute_result"
    }
   ],
   "source": [
    "SST"
   ]
  },
  {
   "cell_type": "code",
   "execution_count": 81,
   "id": "04ad8874",
   "metadata": {},
   "outputs": [
    {
     "data": {
      "text/plain": [
       "2365.97536708429"
      ]
     },
     "execution_count": 81,
     "metadata": {},
     "output_type": "execute_result"
    }
   ],
   "source": [
    "SSD+SSR"
   ]
  },
  {
   "cell_type": "code",
   "execution_count": 82,
   "id": "d6101abb",
   "metadata": {},
   "outputs": [],
   "source": [
    "R2 = SSR/SST"
   ]
  },
  {
   "cell_type": "code",
   "execution_count": 83,
   "id": "2cb0f1f0",
   "metadata": {},
   "outputs": [
    {
     "data": {
      "text/plain": [
       "0.9436689177649523"
      ]
     },
     "execution_count": 83,
     "metadata": {},
     "output_type": "execute_result"
    }
   ],
   "source": [
    "R2"
   ]
  },
  {
   "cell_type": "code",
   "execution_count": 84,
   "id": "5ae8cde0",
   "metadata": {},
   "outputs": [
    {
     "data": {
      "text/plain": [
       "(array([ 1.,  0., 12., 15., 14., 21., 12., 14.,  8.,  3.]),\n",
       " array([-1.81492738, -1.40259695, -0.99026653, -0.5779361 , -0.16560568,\n",
       "         0.24672475,  0.65905517,  1.0713856 ,  1.48371602,  1.89604645,\n",
       "         2.30837687]),\n",
       " <BarContainer object of 10 artists>)"
      ]
     },
     "execution_count": 84,
     "metadata": {},
     "output_type": "execute_result"
    },
    {
     "data": {
      "image/png": "[encoded data removed]",
      "text/plain": [
       "<Figure size 432x288 with 1 Axes>"
      ]
     },
     "metadata": {
      "needs_background": "light"
     },
     "output_type": "display_data"
    }
   ],
   "source": [
    "plt.hist(data[\"y_prediccion\"]-data[\"y_actual\"])"
   ]
  },
  {
   "cell_type": "markdown",
   "id": "9cee14d9",
   "metadata": {},
   "source": [
    "## Obteniedno la recta de regresión\n",
    "* b = sum(xi - x_m)*(y_i - y_m) / sum((xi - x_m)^2)\n",
    "* a=y_n - b*x_m"
   ]
  },
  {
   "cell_type": "code",
   "execution_count": 86,
   "id": "d46a3f20",
   "metadata": {},
   "outputs": [
    {
     "data": {
      "text/plain": [
       "(1.549970011071514, 7.546487158934366)"
      ]
     },
     "execution_count": 86,
     "metadata": {},
     "output_type": "execute_result"
    }
   ],
   "source": [
    "x_mean = np.mean(data[\"x\"])\n",
    "y_mean = np.mean(data[\"y_actual\"])\n",
    "x_mean, y_mean"
   ]
  },
  {
   "cell_type": "code",
   "execution_count": 87,
   "id": "820b0baf",
   "metadata": {},
   "outputs": [],
   "source": [
    "data[\"beta_n\"] = (data[\"x\"]-x_mean)*(data[\"y_actual\"]-y_mean)\n",
    "data[\"beta_d\"] = (data[\"x\"]-x_mean)**2"
   ]
  },
  {
   "cell_type": "code",
   "execution_count": 88,
   "id": "7d829ef2",
   "metadata": {},
   "outputs": [],
   "source": [
    "beta = sum(data[\"beta_n\"])/sum(data[\"beta_d\"])"
   ]
  },
  {
   "cell_type": "code",
   "execution_count": 89,
   "id": "65fe39dc",
   "metadata": {},
   "outputs": [],
   "source": [
    "alpha = y_mean - beta * x_mean"
   ]
  },
  {
   "cell_type": "code",
   "execution_count": 90,
   "id": "1b002530",
   "metadata": {},
   "outputs": [
    {
     "data": {
      "text/plain": [
       "(4.545684955836343, 1.9360388792448506)"
      ]
     },
     "execution_count": 90,
     "metadata": {},
     "output_type": "execute_result"
    }
   ],
   "source": [
    "alpha, beta"
   ]
  },
  {
   "cell_type": "markdown",
   "id": "cd9a189f",
   "metadata": {},
   "source": [
    "El modelo lineal obtenido por regresión es: y = 4.545684955836343 + 1.9360388792448506 * x"
   ]
  },
  {
   "cell_type": "code",
   "execution_count": 91,
   "id": "6144bbe0",
   "metadata": {},
   "outputs": [],
   "source": [
    "data[\"y_model\"] = alpha + beta * data[\"x\"]"
   ]
  },
  {
   "cell_type": "code",
   "execution_count": 92,
   "id": "5f35d245",
   "metadata": {},
   "outputs": [
    {
     "data": {
      "text/html": [
       "<div>\n",
       "<style scoped>\n",
       "    .dataframe tbody tr th:only-of-type {\n",
       "        vertical-align: middle;\n",
       "    }\n",
       "\n",
       "    .dataframe tbody tr th {\n",
       "        vertical-align: top;\n",
       "    }\n",
       "\n",
       "    .dataframe thead th {\n",
       "        text-align: right;\n",
       "    }\n",
       "</style>\n",
       "<table border=\"1\" class=\"dataframe\">\n",
       "  <thead>\n",
       "    <tr style=\"text-align: right;\">\n",
       "      <th></th>\n",
       "      <th>x</th>\n",
       "      <th>y_actual</th>\n",
       "      <th>y_prediccion</th>\n",
       "      <th>SSR</th>\n",
       "      <th>SSD</th>\n",
       "      <th>SST</th>\n",
       "      <th>beta_n</th>\n",
       "      <th>beta_d</th>\n",
       "      <th>y_model</th>\n",
       "    </tr>\n",
       "  </thead>\n",
       "  <tbody>\n",
       "    <tr>\n",
       "      <th>0</th>\n",
       "      <td>1.233209</td>\n",
       "      <td>7.280011</td>\n",
       "      <td>7.343096</td>\n",
       "      <td>0.041368</td>\n",
       "      <td>0.003980</td>\n",
       "      <td>0.071009</td>\n",
       "      <td>0.084409</td>\n",
       "      <td>0.100338</td>\n",
       "      <td>6.933225</td>\n",
       "    </tr>\n",
       "    <tr>\n",
       "      <th>1</th>\n",
       "      <td>1.446045</td>\n",
       "      <td>7.882388</td>\n",
       "      <td>7.747485</td>\n",
       "      <td>0.040400</td>\n",
       "      <td>0.018199</td>\n",
       "      <td>0.112830</td>\n",
       "      <td>-0.034909</td>\n",
       "      <td>0.010800</td>\n",
       "      <td>7.345284</td>\n",
       "    </tr>\n",
       "    <tr>\n",
       "      <th>2</th>\n",
       "      <td>5.315966</td>\n",
       "      <td>14.835656</td>\n",
       "      <td>15.100335</td>\n",
       "      <td>57.060621</td>\n",
       "      <td>0.070055</td>\n",
       "      <td>53.131978</td>\n",
       "      <td>27.450979</td>\n",
       "      <td>14.182725</td>\n",
       "      <td>14.837602</td>\n",
       "    </tr>\n",
       "    <tr>\n",
       "      <th>3</th>\n",
       "      <td>2.995831</td>\n",
       "      <td>10.698130</td>\n",
       "      <td>10.692080</td>\n",
       "      <td>9.894752</td>\n",
       "      <td>0.000037</td>\n",
       "      <td>9.932855</td>\n",
       "      <td>4.556839</td>\n",
       "      <td>2.090515</td>\n",
       "      <td>10.345731</td>\n",
       "    </tr>\n",
       "    <tr>\n",
       "      <th>4</th>\n",
       "      <td>0.644047</td>\n",
       "      <td>6.273552</td>\n",
       "      <td>6.223689</td>\n",
       "      <td>1.749796</td>\n",
       "      <td>0.002486</td>\n",
       "      <td>1.620363</td>\n",
       "      <td>1.153181</td>\n",
       "      <td>0.820697</td>\n",
       "      <td>5.792584</td>\n",
       "    </tr>\n",
       "  </tbody>\n",
       "</table>\n",
       "</div>"
      ],
      "text/plain": [
       "          x   y_actual  y_prediccion        SSR       SSD        SST  \\\n",
       "0  1.233209   7.280011      7.343096   0.041368  0.003980   0.071009   \n",
       "1  1.446045   7.882388      7.747485   0.040400  0.018199   0.112830   \n",
       "2  5.315966  14.835656     15.100335  57.060621  0.070055  53.131978   \n",
       "3  2.995831  10.698130     10.692080   9.894752  0.000037   9.932855   \n",
       "4  0.644047   6.273552      6.223689   1.749796  0.002486   1.620363   \n",
       "\n",
       "      beta_n     beta_d    y_model  \n",
       "0   0.084409   0.100338   6.933225  \n",
       "1  -0.034909   0.010800   7.345284  \n",
       "2  27.450979  14.182725  14.837602  \n",
       "3   4.556839   2.090515  10.345731  \n",
       "4   1.153181   0.820697   5.792584  "
      ]
     },
     "execution_count": 92,
     "metadata": {},
     "output_type": "execute_result"
    }
   ],
   "source": [
    "data.head()"
   ]
  },
  {
   "cell_type": "markdown",
   "id": "50c80454",
   "metadata": {},
   "source": [
    "##  Error estándar de los residuos (RSE)"
   ]
  },
  {
   "cell_type": "code",
   "execution_count": 93,
   "id": "bb216165",
   "metadata": {},
   "outputs": [
    {
     "data": {
      "text/plain": [
       "0.9150077367463914"
      ]
     },
     "execution_count": 93,
     "metadata": {},
     "output_type": "execute_result"
    }
   ],
   "source": [
    "RSE = np.sqrt(SSD/(len(data)-2))\n",
    "RSE"
   ]
  },
  {
   "cell_type": "code",
   "execution_count": 94,
   "id": "4dcebf73",
   "metadata": {},
   "outputs": [
    {
     "data": {
      "text/plain": [
       "7.546487158934366"
      ]
     },
     "execution_count": 94,
     "metadata": {},
     "output_type": "execute_result"
    }
   ],
   "source": [
    "np.mean(data[\"y_actual\"])"
   ]
  },
  {
   "cell_type": "code",
   "execution_count": 95,
   "id": "38f1ee36",
   "metadata": {},
   "outputs": [
    {
     "data": {
      "text/plain": [
       "0.12124949231022066"
      ]
     },
     "execution_count": 95,
     "metadata": {},
     "output_type": "execute_result"
    }
   ],
   "source": [
    "RSE / np.mean(data[\"y_actual\"])"
   ]
  },
  {
   "cell_type": "code",
   "execution_count": null,
   "id": "b9dad951",
   "metadata": {},
   "outputs": [],
   "source": []
  }
 ],
 "metadata": {
  "kernelspec": {
   "display_name": "Python 3",
   "language": "python",
   "name": "python3"
  },
  "language_info": {
   "codemirror_mode": {
    "name": "ipython",
    "version": 3
   },
   "file_extension": ".py",
   "mimetype": "text/x-python",
   "name": "python",
   "nbconvert_exporter": "python",
   "pygments_lexer": "ipython3",
   "version": "3.8.10"
  }
 },
 "nbformat": 4,
 "nbformat_minor": 5
}
