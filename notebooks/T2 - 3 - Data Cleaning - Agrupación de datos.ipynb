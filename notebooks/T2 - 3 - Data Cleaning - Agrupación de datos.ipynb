{
 "cells": [
  {
   "cell_type": "markdown",
   "id": "12bd0d3e",
   "metadata": {},
   "source": [
    "# Agregación de datos por categoría"
   ]
  },
  {
   "cell_type": "code",
   "execution_count": 2,
   "id": "dfa889ae",
   "metadata": {},
   "outputs": [],
   "source": [
    "import numpy as np\n",
    "import pandas as pd"
   ]
  },
  {
   "cell_type": "code",
   "execution_count": 37,
   "id": "31e2e17a",
   "metadata": {},
   "outputs": [],
   "source": [
    "gender = ['Male', 'Female']\n",
    "income = ['Poor', 'Middle Class', 'Rich']"
   ]
  },
  {
   "cell_type": "code",
   "execution_count": 38,
   "id": "6775c41f",
   "metadata": {},
   "outputs": [],
   "source": [
    "n = 500\n",
    "\n",
    "gender_data = []\n",
    "income_data = []\n",
    "\n",
    "for i in range(0,500):\n",
    "    gender_data.append(np.random.choice(gender))\n",
    "    income_data.append(np.random.choice(income))"
   ]
  },
  {
   "cell_type": "code",
   "execution_count": 39,
   "id": "4e0311d9",
   "metadata": {},
   "outputs": [
    {
     "data": {
      "text/plain": [
       "['Male', 'Female', 'Male', 'Male', 'Female', 'Female', 'Male', 'Male', 'Male']"
      ]
     },
     "execution_count": 39,
     "metadata": {},
     "output_type": "execute_result"
    }
   ],
   "source": [
    "gender_data[1:10]"
   ]
  },
  {
   "cell_type": "code",
   "execution_count": 40,
   "id": "4db86e2f",
   "metadata": {},
   "outputs": [
    {
     "data": {
      "text/plain": [
       "['Rich',\n",
       " 'Rich',\n",
       " 'Rich',\n",
       " 'Middle Class',\n",
       " 'Rich',\n",
       " 'Middle Class',\n",
       " 'Middle Class',\n",
       " 'Rich',\n",
       " 'Poor']"
      ]
     },
     "execution_count": 40,
     "metadata": {},
     "output_type": "execute_result"
    }
   ],
   "source": [
    "income_data[1:10]"
   ]
  },
  {
   "cell_type": "code",
   "execution_count": 41,
   "id": "461d7314",
   "metadata": {},
   "outputs": [],
   "source": [
    "height = 160 + 30 * np.random.randn(n)\n",
    "weight = 65 + 25 * np.random.randn(n) \n",
    "age = 30 + 12 * np.random.randn(n)\n",
    "income = 18000 + 3500 * np.random.randn(n) "
   ]
  },
  {
   "cell_type": "code",
   "execution_count": 42,
   "id": "4b483f62",
   "metadata": {},
   "outputs": [],
   "source": [
    "data = pd.DataFrame(\n",
    "    {\n",
    "        \"Gender\" : gender_data,\n",
    "        \"Economic Status\" : income_data,\n",
    "        \"Height\" : height,\n",
    "        \"Weight\" : weight,\n",
    "        \"Age\" : age,\n",
    "        \"Income\" : income\n",
    "    }\n",
    ")"
   ]
  },
  {
   "cell_type": "code",
   "execution_count": 43,
   "id": "4774c4fa",
   "metadata": {},
   "outputs": [
    {
     "data": {
      "text/html": [
       "<div>\n",
       "<style scoped>\n",
       "    .dataframe tbody tr th:only-of-type {\n",
       "        vertical-align: middle;\n",
       "    }\n",
       "\n",
       "    .dataframe tbody tr th {\n",
       "        vertical-align: top;\n",
       "    }\n",
       "\n",
       "    .dataframe thead th {\n",
       "        text-align: right;\n",
       "    }\n",
       "</style>\n",
       "<table border=\"1\" class=\"dataframe\">\n",
       "  <thead>\n",
       "    <tr style=\"text-align: right;\">\n",
       "      <th></th>\n",
       "      <th>Gender</th>\n",
       "      <th>Economic Status</th>\n",
       "      <th>Height</th>\n",
       "      <th>Weight</th>\n",
       "      <th>Age</th>\n",
       "      <th>Income</th>\n",
       "    </tr>\n",
       "  </thead>\n",
       "  <tbody>\n",
       "    <tr>\n",
       "      <th>0</th>\n",
       "      <td>Female</td>\n",
       "      <td>Rich</td>\n",
       "      <td>111.201759</td>\n",
       "      <td>54.078101</td>\n",
       "      <td>25.650781</td>\n",
       "      <td>14980.307625</td>\n",
       "    </tr>\n",
       "    <tr>\n",
       "      <th>1</th>\n",
       "      <td>Male</td>\n",
       "      <td>Rich</td>\n",
       "      <td>162.628905</td>\n",
       "      <td>87.691047</td>\n",
       "      <td>19.467758</td>\n",
       "      <td>18666.367856</td>\n",
       "    </tr>\n",
       "    <tr>\n",
       "      <th>2</th>\n",
       "      <td>Female</td>\n",
       "      <td>Rich</td>\n",
       "      <td>144.432354</td>\n",
       "      <td>70.388319</td>\n",
       "      <td>55.731229</td>\n",
       "      <td>15138.875029</td>\n",
       "    </tr>\n",
       "    <tr>\n",
       "      <th>3</th>\n",
       "      <td>Male</td>\n",
       "      <td>Rich</td>\n",
       "      <td>128.737562</td>\n",
       "      <td>83.424110</td>\n",
       "      <td>22.098764</td>\n",
       "      <td>20574.429844</td>\n",
       "    </tr>\n",
       "    <tr>\n",
       "      <th>4</th>\n",
       "      <td>Male</td>\n",
       "      <td>Middle Class</td>\n",
       "      <td>159.570702</td>\n",
       "      <td>60.175639</td>\n",
       "      <td>43.076335</td>\n",
       "      <td>15989.972872</td>\n",
       "    </tr>\n",
       "  </tbody>\n",
       "</table>\n",
       "</div>"
      ],
      "text/plain": [
       "   Gender Economic Status      Height     Weight        Age        Income\n",
       "0  Female            Rich  111.201759  54.078101  25.650781  14980.307625\n",
       "1    Male            Rich  162.628905  87.691047  19.467758  18666.367856\n",
       "2  Female            Rich  144.432354  70.388319  55.731229  15138.875029\n",
       "3    Male            Rich  128.737562  83.424110  22.098764  20574.429844\n",
       "4    Male    Middle Class  159.570702  60.175639  43.076335  15989.972872"
      ]
     },
     "execution_count": 43,
     "metadata": {},
     "output_type": "execute_result"
    }
   ],
   "source": [
    "data.head()"
   ]
  },
  {
   "cell_type": "markdown",
   "id": "1a4ec118",
   "metadata": {},
   "source": [
    "## Agrupación de datos"
   ]
  },
  {
   "cell_type": "code",
   "execution_count": 47,
   "id": "5ebaf8f2",
   "metadata": {},
   "outputs": [],
   "source": [
    "grouped_gender = data.groupby(\"Gender\")"
   ]
  },
  {
   "cell_type": "code",
   "execution_count": null,
   "id": "e3425731",
   "metadata": {},
   "outputs": [],
   "source": []
  },
  {
   "cell_type": "code",
   "execution_count": 48,
   "id": "58a6c834",
   "metadata": {},
   "outputs": [
    {
     "data": {
      "text/plain": [
       "{'Female': [0, 2, 5, 6, 10, 12, 13, 14, 15, 17, 22, 24, 25, 29, 30, 31, 32, 34, 35, 36, 37, 38, 40, 41, 42, 43, 44, 45, 46, 47, 48, 51, 52, 53, 54, 55, 56, 57, 61, 62, 65, 66, 67, 71, 75, 77, 78, 80, 83, 84, 85, 87, 89, 92, 96, 97, 99, 100, 101, 104, 107, 108, 110, 112, 120, 123, 124, 125, 126, 128, 130, 133, 135, 137, 140, 142, 143, 144, 147, 149, 150, 151, 153, 154, 155, 156, 159, 160, 163, 164, 167, 169, 171, 173, 174, 175, 181, 182, 191, 196, ...], 'Male': [1, 3, 4, 7, 8, 9, 11, 16, 18, 19, 20, 21, 23, 26, 27, 28, 33, 39, 49, 50, 58, 59, 60, 63, 64, 68, 69, 70, 72, 73, 74, 76, 79, 81, 82, 86, 88, 90, 91, 93, 94, 95, 98, 102, 103, 105, 106, 109, 111, 113, 114, 115, 116, 117, 118, 119, 121, 122, 127, 129, 131, 132, 134, 136, 138, 139, 141, 145, 146, 148, 152, 157, 158, 161, 162, 165, 166, 168, 170, 172, 176, 177, 178, 179, 180, 183, 184, 185, 186, 187, 188, 189, 190, 192, 193, 194, 195, 197, 202, 204, ...]}"
      ]
     },
     "execution_count": 48,
     "metadata": {},
     "output_type": "execute_result"
    }
   ],
   "source": [
    "grouped_gender.groups"
   ]
  },
  {
   "cell_type": "code",
   "execution_count": 50,
   "id": "b65146eb",
   "metadata": {},
   "outputs": [
    {
     "name": "stdout",
     "output_type": "stream",
     "text": [
      "Female\n",
      "     Gender Economic Status      Height     Weight        Age        Income\n",
      "0    Female            Rich  111.201759  54.078101  25.650781  14980.307625\n",
      "2    Female            Rich  144.432354  70.388319  55.731229  15138.875029\n",
      "5    Female            Rich  167.101001  91.925505  27.833876  24837.197496\n",
      "6    Female    Middle Class  180.314703  26.880419  29.450223  20389.480912\n",
      "10   Female            Poor  156.472643  94.931962  20.226043  15809.481473\n",
      "..      ...             ...         ...        ...        ...           ...\n",
      "488  Female            Rich   98.431184  34.690777  43.545820  13543.845700\n",
      "490  Female            Poor  162.874970  31.958842  39.345179  12955.830572\n",
      "491  Female            Poor  127.140627  97.133866  38.534877  19799.364609\n",
      "492  Female    Middle Class  156.080466   3.521457  59.045661  15754.071990\n",
      "498  Female    Middle Class  210.641937  74.379595  37.181894  13744.326661\n",
      "\n",
      "[266 rows x 6 columns]\n",
      "Male\n",
      "    Gender Economic Status      Height      Weight        Age        Income\n",
      "1     Male            Rich  162.628905   87.691047  19.467758  18666.367856\n",
      "3     Male            Rich  128.737562   83.424110  22.098764  20574.429844\n",
      "4     Male    Middle Class  159.570702   60.175639  43.076335  15989.972872\n",
      "7     Male    Middle Class  182.613176  102.863150  46.188633  16090.197533\n",
      "8     Male            Rich  188.285973   -8.356055  18.226191  16216.150694\n",
      "..     ...             ...         ...         ...        ...           ...\n",
      "494   Male    Middle Class  162.881312   48.285536  29.845996  17108.204633\n",
      "495   Male    Middle Class  142.875186  103.226729   5.018675  21521.321871\n",
      "496   Male    Middle Class  166.187224   19.160802  18.191855  19651.429826\n",
      "497   Male    Middle Class  155.383884   98.701671  12.662825  21954.112315\n",
      "499   Male            Rich  161.816351   62.708062  28.661034  14034.010692\n",
      "\n",
      "[234 rows x 6 columns]\n"
     ]
    }
   ],
   "source": [
    "for names, groups in grouped_gender:\n",
    "    print(names)\n",
    "    print(groups)\n",
    "    "
   ]
  },
  {
   "cell_type": "code",
   "execution_count": 51,
   "id": "64c8dc7b",
   "metadata": {},
   "outputs": [
    {
     "data": {
      "text/html": [
       "<div>\n",
       "<style scoped>\n",
       "    .dataframe tbody tr th:only-of-type {\n",
       "        vertical-align: middle;\n",
       "    }\n",
       "\n",
       "    .dataframe tbody tr th {\n",
       "        vertical-align: top;\n",
       "    }\n",
       "\n",
       "    .dataframe thead th {\n",
       "        text-align: right;\n",
       "    }\n",
       "</style>\n",
       "<table border=\"1\" class=\"dataframe\">\n",
       "  <thead>\n",
       "    <tr style=\"text-align: right;\">\n",
       "      <th></th>\n",
       "      <th>Gender</th>\n",
       "      <th>Economic Status</th>\n",
       "      <th>Height</th>\n",
       "      <th>Weight</th>\n",
       "      <th>Age</th>\n",
       "      <th>Income</th>\n",
       "    </tr>\n",
       "  </thead>\n",
       "  <tbody>\n",
       "    <tr>\n",
       "      <th>0</th>\n",
       "      <td>Female</td>\n",
       "      <td>Rich</td>\n",
       "      <td>111.201759</td>\n",
       "      <td>54.078101</td>\n",
       "      <td>25.650781</td>\n",
       "      <td>14980.307625</td>\n",
       "    </tr>\n",
       "    <tr>\n",
       "      <th>2</th>\n",
       "      <td>Female</td>\n",
       "      <td>Rich</td>\n",
       "      <td>144.432354</td>\n",
       "      <td>70.388319</td>\n",
       "      <td>55.731229</td>\n",
       "      <td>15138.875029</td>\n",
       "    </tr>\n",
       "    <tr>\n",
       "      <th>5</th>\n",
       "      <td>Female</td>\n",
       "      <td>Rich</td>\n",
       "      <td>167.101001</td>\n",
       "      <td>91.925505</td>\n",
       "      <td>27.833876</td>\n",
       "      <td>24837.197496</td>\n",
       "    </tr>\n",
       "    <tr>\n",
       "      <th>6</th>\n",
       "      <td>Female</td>\n",
       "      <td>Middle Class</td>\n",
       "      <td>180.314703</td>\n",
       "      <td>26.880419</td>\n",
       "      <td>29.450223</td>\n",
       "      <td>20389.480912</td>\n",
       "    </tr>\n",
       "    <tr>\n",
       "      <th>10</th>\n",
       "      <td>Female</td>\n",
       "      <td>Poor</td>\n",
       "      <td>156.472643</td>\n",
       "      <td>94.931962</td>\n",
       "      <td>20.226043</td>\n",
       "      <td>15809.481473</td>\n",
       "    </tr>\n",
       "    <tr>\n",
       "      <th>...</th>\n",
       "      <td>...</td>\n",
       "      <td>...</td>\n",
       "      <td>...</td>\n",
       "      <td>...</td>\n",
       "      <td>...</td>\n",
       "      <td>...</td>\n",
       "    </tr>\n",
       "    <tr>\n",
       "      <th>488</th>\n",
       "      <td>Female</td>\n",
       "      <td>Rich</td>\n",
       "      <td>98.431184</td>\n",
       "      <td>34.690777</td>\n",
       "      <td>43.545820</td>\n",
       "      <td>13543.845700</td>\n",
       "    </tr>\n",
       "    <tr>\n",
       "      <th>490</th>\n",
       "      <td>Female</td>\n",
       "      <td>Poor</td>\n",
       "      <td>162.874970</td>\n",
       "      <td>31.958842</td>\n",
       "      <td>39.345179</td>\n",
       "      <td>12955.830572</td>\n",
       "    </tr>\n",
       "    <tr>\n",
       "      <th>491</th>\n",
       "      <td>Female</td>\n",
       "      <td>Poor</td>\n",
       "      <td>127.140627</td>\n",
       "      <td>97.133866</td>\n",
       "      <td>38.534877</td>\n",
       "      <td>19799.364609</td>\n",
       "    </tr>\n",
       "    <tr>\n",
       "      <th>492</th>\n",
       "      <td>Female</td>\n",
       "      <td>Middle Class</td>\n",
       "      <td>156.080466</td>\n",
       "      <td>3.521457</td>\n",
       "      <td>59.045661</td>\n",
       "      <td>15754.071990</td>\n",
       "    </tr>\n",
       "    <tr>\n",
       "      <th>498</th>\n",
       "      <td>Female</td>\n",
       "      <td>Middle Class</td>\n",
       "      <td>210.641937</td>\n",
       "      <td>74.379595</td>\n",
       "      <td>37.181894</td>\n",
       "      <td>13744.326661</td>\n",
       "    </tr>\n",
       "  </tbody>\n",
       "</table>\n",
       "<p>266 rows × 6 columns</p>\n",
       "</div>"
      ],
      "text/plain": [
       "     Gender Economic Status      Height     Weight        Age        Income\n",
       "0    Female            Rich  111.201759  54.078101  25.650781  14980.307625\n",
       "2    Female            Rich  144.432354  70.388319  55.731229  15138.875029\n",
       "5    Female            Rich  167.101001  91.925505  27.833876  24837.197496\n",
       "6    Female    Middle Class  180.314703  26.880419  29.450223  20389.480912\n",
       "10   Female            Poor  156.472643  94.931962  20.226043  15809.481473\n",
       "..      ...             ...         ...        ...        ...           ...\n",
       "488  Female            Rich   98.431184  34.690777  43.545820  13543.845700\n",
       "490  Female            Poor  162.874970  31.958842  39.345179  12955.830572\n",
       "491  Female            Poor  127.140627  97.133866  38.534877  19799.364609\n",
       "492  Female    Middle Class  156.080466   3.521457  59.045661  15754.071990\n",
       "498  Female    Middle Class  210.641937  74.379595  37.181894  13744.326661\n",
       "\n",
       "[266 rows x 6 columns]"
      ]
     },
     "execution_count": 51,
     "metadata": {},
     "output_type": "execute_result"
    }
   ],
   "source": [
    "grouped_gender.get_group(\"Female\")"
   ]
  },
  {
   "cell_type": "code",
   "execution_count": 52,
   "id": "1f8c0f2a",
   "metadata": {},
   "outputs": [],
   "source": [
    "double_group = data.groupby([\"Gender\", \"Economic Status\"])"
   ]
  },
  {
   "cell_type": "code",
   "execution_count": 53,
   "id": "134d3a0c",
   "metadata": {},
   "outputs": [
    {
     "data": {
      "text/plain": [
       "6"
      ]
     },
     "execution_count": 53,
     "metadata": {},
     "output_type": "execute_result"
    }
   ],
   "source": [
    "len(double_group)"
   ]
  },
  {
   "cell_type": "code",
   "execution_count": 54,
   "id": "453eaa4e",
   "metadata": {},
   "outputs": [
    {
     "name": "stdout",
     "output_type": "stream",
     "text": [
      "('Female', 'Middle Class')\n",
      "     Gender Economic Status      Height     Weight        Age        Income\n",
      "6    Female    Middle Class  180.314703  26.880419  29.450223  20389.480912\n",
      "14   Female    Middle Class  133.651290  82.430957  25.601077  25888.700405\n",
      "29   Female    Middle Class  141.294300  65.619391  27.673556  20482.796356\n",
      "32   Female    Middle Class  165.148031  67.227153  33.267712  16430.455565\n",
      "36   Female    Middle Class  135.373426  35.146778  30.943091  17362.463590\n",
      "..      ...             ...         ...        ...        ...           ...\n",
      "475  Female    Middle Class  198.435749  75.107452  10.716006  17284.341339\n",
      "477  Female    Middle Class  206.970659  49.332852  29.934293  16636.078534\n",
      "484  Female    Middle Class  128.929025  87.404403  35.365456  15504.894139\n",
      "492  Female    Middle Class  156.080466   3.521457  59.045661  15754.071990\n",
      "498  Female    Middle Class  210.641937  74.379595  37.181894  13744.326661\n",
      "\n",
      "[86 rows x 6 columns]\n",
      "('Female', 'Poor')\n",
      "     Gender Economic Status      Height      Weight        Age        Income\n",
      "10   Female            Poor  156.472643   94.931962  20.226043  15809.481473\n",
      "12   Female            Poor  165.051254   73.297646  23.897280  22042.253455\n",
      "13   Female            Poor  147.235574  103.315917  27.092734  23078.231571\n",
      "15   Female            Poor  151.554923   57.977651  47.334156  15675.691691\n",
      "22   Female            Poor  179.868653   76.299459  46.547116  11420.970962\n",
      "..      ...             ...         ...         ...        ...           ...\n",
      "480  Female            Poor  185.780926   47.011562  20.551876  14835.815606\n",
      "481  Female            Poor  177.148238   17.330069  19.486123  19219.462826\n",
      "482  Female            Poor  184.397638   54.456538  31.819162  18279.672887\n",
      "490  Female            Poor  162.874970   31.958842  39.345179  12955.830572\n",
      "491  Female            Poor  127.140627   97.133866  38.534877  19799.364609\n",
      "\n",
      "[71 rows x 6 columns]\n",
      "('Female', 'Rich')\n",
      "     Gender Economic Status      Height      Weight        Age        Income\n",
      "0    Female            Rich  111.201759   54.078101  25.650781  14980.307625\n",
      "2    Female            Rich  144.432354   70.388319  55.731229  15138.875029\n",
      "5    Female            Rich  167.101001   91.925505  27.833876  24837.197496\n",
      "17   Female            Rich  181.117613   82.332709  36.834124  20816.216284\n",
      "25   Female            Rich  117.112143   26.439948  32.087376   8759.299629\n",
      "..      ...             ...         ...         ...        ...           ...\n",
      "470  Female            Rich  151.314468  119.198105  30.515819  20357.789701\n",
      "476  Female            Rich  133.702895   50.244616  47.809903  17452.381409\n",
      "478  Female            Rich  186.631800   88.666094  17.961087  17462.433454\n",
      "483  Female            Rich  133.746784   66.552334  36.150451  11607.426245\n",
      "488  Female            Rich   98.431184   34.690777  43.545820  13543.845700\n",
      "\n",
      "[109 rows x 6 columns]\n",
      "('Male', 'Middle Class')\n",
      "    Gender Economic Status      Height      Weight        Age        Income\n",
      "4     Male    Middle Class  159.570702   60.175639  43.076335  15989.972872\n",
      "7     Male    Middle Class  182.613176  102.863150  46.188633  16090.197533\n",
      "20    Male    Middle Class  151.414554   88.072087  26.020405  18869.421949\n",
      "23    Male    Middle Class  169.719889   65.377708  27.589196  19016.208554\n",
      "33    Male    Middle Class  129.154725   59.320559  34.887623  14911.405183\n",
      "..     ...             ...         ...         ...        ...           ...\n",
      "493   Male    Middle Class  167.004466   89.268763  20.351153  15855.665806\n",
      "494   Male    Middle Class  162.881312   48.285536  29.845996  17108.204633\n",
      "495   Male    Middle Class  142.875186  103.226729   5.018675  21521.321871\n",
      "496   Male    Middle Class  166.187224   19.160802  18.191855  19651.429826\n",
      "497   Male    Middle Class  155.383884   98.701671  12.662825  21954.112315\n",
      "\n",
      "[69 rows x 6 columns]\n",
      "('Male', 'Poor')\n",
      "    Gender Economic Status      Height     Weight        Age        Income\n",
      "9     Male            Poor  159.864715  90.318030  12.913661  17713.925528\n",
      "11    Male            Poor  161.126395  46.772689  57.540168  21206.498288\n",
      "18    Male            Poor  136.178856  32.743739  23.935769  16350.752089\n",
      "21    Male            Poor  177.215208  41.787947  19.206676  18887.411991\n",
      "28    Male            Poor  188.095244  74.766127  46.734957  19213.931203\n",
      "..     ...             ...         ...        ...        ...           ...\n",
      "445   Male            Poor  204.475836  77.060076  18.854715  14903.506747\n",
      "458   Male            Poor  153.475018  39.163664  34.564582  23503.372537\n",
      "473   Male            Poor  154.257436  35.262760  22.056835  16753.621984\n",
      "474   Male            Poor  161.944927  69.998766  59.445251  19238.197894\n",
      "486   Male            Poor  174.341103  16.306861  35.174851  19857.830257\n",
      "\n",
      "[74 rows x 6 columns]\n",
      "('Male', 'Rich')\n",
      "    Gender Economic Status      Height     Weight        Age        Income\n",
      "1     Male            Rich  162.628905  87.691047  19.467758  18666.367856\n",
      "3     Male            Rich  128.737562  83.424110  22.098764  20574.429844\n",
      "8     Male            Rich  188.285973  -8.356055  18.226191  16216.150694\n",
      "16    Male            Rich  139.223908  37.300611  53.539440  19898.538675\n",
      "19    Male            Rich  177.697775  69.027391  41.522923  19056.422008\n",
      "..     ...             ...         ...        ...        ...           ...\n",
      "471   Male            Rich  126.436769  70.690349  21.490816  18057.407446\n",
      "472   Male            Rich  168.382728  30.293187  59.002402  14936.735120\n",
      "485   Male            Rich  176.213470  47.301673  23.892369  15752.915891\n",
      "489   Male            Rich  149.588795  49.774164  40.021377  21205.484749\n",
      "499   Male            Rich  161.816351  62.708062  28.661034  14034.010692\n",
      "\n",
      "[91 rows x 6 columns]\n"
     ]
    }
   ],
   "source": [
    "for names, groups in double_group:\n",
    "    print(names)\n",
    "    print(groups)"
   ]
  },
  {
   "cell_type": "markdown",
   "id": "aa65a110",
   "metadata": {},
   "source": [
    "## Operaciones sobre datos agrupados"
   ]
  },
  {
   "cell_type": "code",
   "execution_count": 55,
   "id": "db3516cd",
   "metadata": {},
   "outputs": [
    {
     "data": {
      "text/html": [
       "<div>\n",
       "<style scoped>\n",
       "    .dataframe tbody tr th:only-of-type {\n",
       "        vertical-align: middle;\n",
       "    }\n",
       "\n",
       "    .dataframe tbody tr th {\n",
       "        vertical-align: top;\n",
       "    }\n",
       "\n",
       "    .dataframe thead th {\n",
       "        text-align: right;\n",
       "    }\n",
       "</style>\n",
       "<table border=\"1\" class=\"dataframe\">\n",
       "  <thead>\n",
       "    <tr style=\"text-align: right;\">\n",
       "      <th></th>\n",
       "      <th></th>\n",
       "      <th>Age</th>\n",
       "      <th>Height</th>\n",
       "    </tr>\n",
       "    <tr>\n",
       "      <th>Gender</th>\n",
       "      <th>Economic Status</th>\n",
       "      <th></th>\n",
       "      <th></th>\n",
       "    </tr>\n",
       "  </thead>\n",
       "  <tbody>\n",
       "    <tr>\n",
       "      <th rowspan=\"3\" valign=\"top\">Female</th>\n",
       "      <th>Middle Class</th>\n",
       "      <td>32.148246</td>\n",
       "      <td>5.083063</td>\n",
       "    </tr>\n",
       "    <tr>\n",
       "      <th>Poor</th>\n",
       "      <td>31.112750</td>\n",
       "      <td>6.141535</td>\n",
       "    </tr>\n",
       "    <tr>\n",
       "      <th>Rich</th>\n",
       "      <td>29.951858</td>\n",
       "      <td>5.286279</td>\n",
       "    </tr>\n",
       "    <tr>\n",
       "      <th rowspan=\"3\" valign=\"top\">Male</th>\n",
       "      <th>Middle Class</th>\n",
       "      <td>30.904583</td>\n",
       "      <td>5.741417</td>\n",
       "    </tr>\n",
       "    <tr>\n",
       "      <th>Poor</th>\n",
       "      <td>31.223916</td>\n",
       "      <td>5.823772</td>\n",
       "    </tr>\n",
       "    <tr>\n",
       "      <th>Rich</th>\n",
       "      <td>28.684907</td>\n",
       "      <td>5.382871</td>\n",
       "    </tr>\n",
       "  </tbody>\n",
       "</table>\n",
       "</div>"
      ],
      "text/plain": [
       "                              Age    Height\n",
       "Gender Economic Status                     \n",
       "Female Middle Class     32.148246  5.083063\n",
       "       Poor             31.112750  6.141535\n",
       "       Rich             29.951858  5.286279\n",
       "Male   Middle Class     30.904583  5.741417\n",
       "       Poor             31.223916  5.823772\n",
       "       Rich             28.684907  5.382871"
      ]
     },
     "execution_count": 55,
     "metadata": {},
     "output_type": "execute_result"
    }
   ],
   "source": [
    "double_group.aggregate(\n",
    "    {\n",
    "        \"Age\" : np.mean,\n",
    "        \"Height\" : lambda h:(np.mean(h))/np.std(h)\n",
    "    }\n",
    ")"
   ]
  },
  {
   "cell_type": "code",
   "execution_count": 56,
   "id": "96bc3344",
   "metadata": {},
   "outputs": [
    {
     "data": {
      "text/html": [
       "<div>\n",
       "<style scoped>\n",
       "    .dataframe tbody tr th:only-of-type {\n",
       "        vertical-align: middle;\n",
       "    }\n",
       "\n",
       "    .dataframe tbody tr th {\n",
       "        vertical-align: top;\n",
       "    }\n",
       "\n",
       "    .dataframe thead tr th {\n",
       "        text-align: left;\n",
       "    }\n",
       "\n",
       "    .dataframe thead tr:last-of-type th {\n",
       "        text-align: right;\n",
       "    }\n",
       "</style>\n",
       "<table border=\"1\" class=\"dataframe\">\n",
       "  <thead>\n",
       "    <tr>\n",
       "      <th></th>\n",
       "      <th></th>\n",
       "      <th colspan=\"3\" halign=\"left\">Height</th>\n",
       "      <th colspan=\"3\" halign=\"left\">Weight</th>\n",
       "      <th colspan=\"3\" halign=\"left\">Age</th>\n",
       "      <th colspan=\"3\" halign=\"left\">Income</th>\n",
       "    </tr>\n",
       "    <tr>\n",
       "      <th></th>\n",
       "      <th></th>\n",
       "      <th>sum</th>\n",
       "      <th>mean</th>\n",
       "      <th>std</th>\n",
       "      <th>sum</th>\n",
       "      <th>mean</th>\n",
       "      <th>std</th>\n",
       "      <th>sum</th>\n",
       "      <th>mean</th>\n",
       "      <th>std</th>\n",
       "      <th>sum</th>\n",
       "      <th>mean</th>\n",
       "      <th>std</th>\n",
       "    </tr>\n",
       "    <tr>\n",
       "      <th>Gender</th>\n",
       "      <th>Economic Status</th>\n",
       "      <th></th>\n",
       "      <th></th>\n",
       "      <th></th>\n",
       "      <th></th>\n",
       "      <th></th>\n",
       "      <th></th>\n",
       "      <th></th>\n",
       "      <th></th>\n",
       "      <th></th>\n",
       "      <th></th>\n",
       "      <th></th>\n",
       "      <th></th>\n",
       "    </tr>\n",
       "  </thead>\n",
       "  <tbody>\n",
       "    <tr>\n",
       "      <th rowspan=\"3\" valign=\"top\">Female</th>\n",
       "      <th>Middle Class</th>\n",
       "      <td>13944.956987</td>\n",
       "      <td>162.150663</td>\n",
       "      <td>32.087287</td>\n",
       "      <td>5465.195493</td>\n",
       "      <td>63.548785</td>\n",
       "      <td>24.845158</td>\n",
       "      <td>2764.749120</td>\n",
       "      <td>32.148246</td>\n",
       "      <td>11.191176</td>\n",
       "      <td>1.525231e+06</td>\n",
       "      <td>17735.243442</td>\n",
       "      <td>3624.656723</td>\n",
       "    </tr>\n",
       "    <tr>\n",
       "      <th>Poor</th>\n",
       "      <td>11482.161844</td>\n",
       "      <td>161.720589</td>\n",
       "      <td>26.519696</td>\n",
       "      <td>4620.109146</td>\n",
       "      <td>65.071960</td>\n",
       "      <td>26.979055</td>\n",
       "      <td>2209.005245</td>\n",
       "      <td>31.112750</td>\n",
       "      <td>13.289796</td>\n",
       "      <td>1.275068e+06</td>\n",
       "      <td>17958.709289</td>\n",
       "      <td>3882.060336</td>\n",
       "    </tr>\n",
       "    <tr>\n",
       "      <th>Rich</th>\n",
       "      <td>17217.056503</td>\n",
       "      <td>157.954647</td>\n",
       "      <td>30.018133</td>\n",
       "      <td>7310.829125</td>\n",
       "      <td>67.071827</td>\n",
       "      <td>27.819631</td>\n",
       "      <td>3264.752483</td>\n",
       "      <td>29.951858</td>\n",
       "      <td>13.776334</td>\n",
       "      <td>1.896761e+06</td>\n",
       "      <td>17401.475008</td>\n",
       "      <td>3023.629132</td>\n",
       "    </tr>\n",
       "    <tr>\n",
       "      <th rowspan=\"3\" valign=\"top\">Male</th>\n",
       "      <th>Middle Class</th>\n",
       "      <td>10970.874053</td>\n",
       "      <td>158.998175</td>\n",
       "      <td>27.896075</td>\n",
       "      <td>4742.835702</td>\n",
       "      <td>68.736749</td>\n",
       "      <td>25.572921</td>\n",
       "      <td>2132.416253</td>\n",
       "      <td>30.904583</td>\n",
       "      <td>10.953349</td>\n",
       "      <td>1.213679e+06</td>\n",
       "      <td>17589.555224</td>\n",
       "      <td>3220.232711</td>\n",
       "    </tr>\n",
       "    <tr>\n",
       "      <th>Poor</th>\n",
       "      <td>11339.656643</td>\n",
       "      <td>153.238603</td>\n",
       "      <td>26.492212</td>\n",
       "      <td>4681.642520</td>\n",
       "      <td>63.265439</td>\n",
       "      <td>22.766210</td>\n",
       "      <td>2310.569793</td>\n",
       "      <td>31.223916</td>\n",
       "      <td>12.618042</td>\n",
       "      <td>1.316752e+06</td>\n",
       "      <td>17793.951375</td>\n",
       "      <td>3182.909230</td>\n",
       "    </tr>\n",
       "    <tr>\n",
       "      <th>Rich</th>\n",
       "      <td>14800.563711</td>\n",
       "      <td>162.643557</td>\n",
       "      <td>30.382419</td>\n",
       "      <td>6102.519855</td>\n",
       "      <td>67.060658</td>\n",
       "      <td>28.817583</td>\n",
       "      <td>2610.326553</td>\n",
       "      <td>28.684907</td>\n",
       "      <td>11.989372</td>\n",
       "      <td>1.637691e+06</td>\n",
       "      <td>17996.609323</td>\n",
       "      <td>3235.007265</td>\n",
       "    </tr>\n",
       "  </tbody>\n",
       "</table>\n",
       "</div>"
      ],
      "text/plain": [
       "                              Height                              Weight  \\\n",
       "                                 sum        mean        std          sum   \n",
       "Gender Economic Status                                                     \n",
       "Female Middle Class     13944.956987  162.150663  32.087287  5465.195493   \n",
       "       Poor             11482.161844  161.720589  26.519696  4620.109146   \n",
       "       Rich             17217.056503  157.954647  30.018133  7310.829125   \n",
       "Male   Middle Class     10970.874053  158.998175  27.896075  4742.835702   \n",
       "       Poor             11339.656643  153.238603  26.492212  4681.642520   \n",
       "       Rich             14800.563711  162.643557  30.382419  6102.519855   \n",
       "\n",
       "                                                      Age             \\\n",
       "                             mean        std          sum       mean   \n",
       "Gender Economic Status                                                 \n",
       "Female Middle Class     63.548785  24.845158  2764.749120  32.148246   \n",
       "       Poor             65.071960  26.979055  2209.005245  31.112750   \n",
       "       Rich             67.071827  27.819631  3264.752483  29.951858   \n",
       "Male   Middle Class     68.736749  25.572921  2132.416253  30.904583   \n",
       "       Poor             63.265439  22.766210  2310.569793  31.223916   \n",
       "       Rich             67.060658  28.817583  2610.326553  28.684907   \n",
       "\n",
       "                                         Income                             \n",
       "                              std           sum          mean          std  \n",
       "Gender Economic Status                                                      \n",
       "Female Middle Class     11.191176  1.525231e+06  17735.243442  3624.656723  \n",
       "       Poor             13.289796  1.275068e+06  17958.709289  3882.060336  \n",
       "       Rich             13.776334  1.896761e+06  17401.475008  3023.629132  \n",
       "Male   Middle Class     10.953349  1.213679e+06  17589.555224  3220.232711  \n",
       "       Poor             12.618042  1.316752e+06  17793.951375  3182.909230  \n",
       "       Rich             11.989372  1.637691e+06  17996.609323  3235.007265  "
      ]
     },
     "execution_count": 56,
     "metadata": {},
     "output_type": "execute_result"
    }
   ],
   "source": [
    "double_group.aggregate([np.sum, np.mean, np.std])"
   ]
  },
  {
   "cell_type": "code",
   "execution_count": 58,
   "id": "7c63491b",
   "metadata": {},
   "outputs": [
    {
     "data": {
      "text/html": [
       "<div>\n",
       "<style scoped>\n",
       "    .dataframe tbody tr th:only-of-type {\n",
       "        vertical-align: middle;\n",
       "    }\n",
       "\n",
       "    .dataframe tbody tr th {\n",
       "        vertical-align: top;\n",
       "    }\n",
       "\n",
       "    .dataframe thead tr th {\n",
       "        text-align: left;\n",
       "    }\n",
       "\n",
       "    .dataframe thead tr:last-of-type th {\n",
       "        text-align: right;\n",
       "    }\n",
       "</style>\n",
       "<table border=\"1\" class=\"dataframe\">\n",
       "  <thead>\n",
       "    <tr>\n",
       "      <th></th>\n",
       "      <th></th>\n",
       "      <th>Height</th>\n",
       "      <th>Weight</th>\n",
       "      <th>Age</th>\n",
       "      <th>Income</th>\n",
       "    </tr>\n",
       "    <tr>\n",
       "      <th></th>\n",
       "      <th></th>\n",
       "      <th>&lt;lambda&gt;</th>\n",
       "      <th>&lt;lambda&gt;</th>\n",
       "      <th>&lt;lambda&gt;</th>\n",
       "      <th>&lt;lambda&gt;</th>\n",
       "    </tr>\n",
       "    <tr>\n",
       "      <th>Gender</th>\n",
       "      <th>Economic Status</th>\n",
       "      <th></th>\n",
       "      <th></th>\n",
       "      <th></th>\n",
       "      <th></th>\n",
       "    </tr>\n",
       "  </thead>\n",
       "  <tbody>\n",
       "    <tr>\n",
       "      <th rowspan=\"3\" valign=\"top\">Female</th>\n",
       "      <th>Middle Class</th>\n",
       "      <td>5.083063</td>\n",
       "      <td>2.572795</td>\n",
       "      <td>2.889491</td>\n",
       "      <td>4.921642</td>\n",
       "    </tr>\n",
       "    <tr>\n",
       "      <th>Poor</th>\n",
       "      <td>6.141535</td>\n",
       "      <td>2.429111</td>\n",
       "      <td>2.357764</td>\n",
       "      <td>4.659003</td>\n",
       "    </tr>\n",
       "    <tr>\n",
       "      <th>Rich</th>\n",
       "      <td>5.286279</td>\n",
       "      <td>2.422089</td>\n",
       "      <td>2.184195</td>\n",
       "      <td>5.781745</td>\n",
       "    </tr>\n",
       "    <tr>\n",
       "      <th rowspan=\"3\" valign=\"top\">Male</th>\n",
       "      <th>Middle Class</th>\n",
       "      <td>5.741417</td>\n",
       "      <td>2.707564</td>\n",
       "      <td>2.842144</td>\n",
       "      <td>5.502217</td>\n",
       "    </tr>\n",
       "    <tr>\n",
       "      <th>Poor</th>\n",
       "      <td>5.823772</td>\n",
       "      <td>2.797887</td>\n",
       "      <td>2.491437</td>\n",
       "      <td>5.628628</td>\n",
       "    </tr>\n",
       "    <tr>\n",
       "      <th>Rich</th>\n",
       "      <td>5.382871</td>\n",
       "      <td>2.339967</td>\n",
       "      <td>2.405783</td>\n",
       "      <td>5.593902</td>\n",
       "    </tr>\n",
       "  </tbody>\n",
       "</table>\n",
       "</div>"
      ],
      "text/plain": [
       "                          Height    Weight       Age    Income\n",
       "                        <lambda>  <lambda>  <lambda>  <lambda>\n",
       "Gender Economic Status                                        \n",
       "Female Middle Class     5.083063  2.572795  2.889491  4.921642\n",
       "       Poor             6.141535  2.429111  2.357764  4.659003\n",
       "       Rich             5.286279  2.422089  2.184195  5.781745\n",
       "Male   Middle Class     5.741417  2.707564  2.842144  5.502217\n",
       "       Poor             5.823772  2.797887  2.491437  5.628628\n",
       "       Rich             5.382871  2.339967  2.405783  5.593902"
      ]
     },
     "execution_count": 58,
     "metadata": {},
     "output_type": "execute_result"
    }
   ],
   "source": [
    "double_group.aggregate([lambda x: np.mean(x) / np.std(x)])"
   ]
  },
  {
   "cell_type": "markdown",
   "id": "9cb6b2b7",
   "metadata": {},
   "source": [
    "## Filtrado de datos"
   ]
  },
  {
   "cell_type": "code",
   "execution_count": 59,
   "id": "804347e3",
   "metadata": {},
   "outputs": [
    {
     "data": {
      "text/plain": [
       "0      25.650781\n",
       "1      19.467758\n",
       "2      55.731229\n",
       "3      22.098764\n",
       "5      27.833876\n",
       "         ...    \n",
       "488    43.545820\n",
       "489    40.021377\n",
       "492    59.045661\n",
       "498    37.181894\n",
       "499    28.661034\n",
       "Name: Age, Length: 286, dtype: float64"
      ]
     },
     "execution_count": 59,
     "metadata": {},
     "output_type": "execute_result"
    }
   ],
   "source": [
    "double_group[\"Age\"].filter(lambda x: x.sum()>2400)"
   ]
  },
  {
   "cell_type": "markdown",
   "id": "210f7554",
   "metadata": {},
   "source": [
    "## Transformación de variables"
   ]
  },
  {
   "cell_type": "code",
   "execution_count": 60,
   "id": "9d3cb4d9",
   "metadata": {},
   "outputs": [],
   "source": [
    "zscore = lambda x : (x - x.mean()/x.std())"
   ]
  },
  {
   "cell_type": "code",
   "execution_count": 62,
   "id": "ba23e4e3",
   "metadata": {},
   "outputs": [],
   "source": [
    "z_group = double_group.transform(zscore)"
   ]
  },
  {
   "cell_type": "code",
   "execution_count": 65,
   "id": "0b1aaafa",
   "metadata": {},
   "outputs": [],
   "source": [
    "import matplotlib.pyplot as plt"
   ]
  },
  {
   "cell_type": "code",
   "execution_count": 66,
   "id": "a79a8d6c",
   "metadata": {},
   "outputs": [
    {
     "data": {
      "text/plain": [
       "(array([  4.,  22.,  27.,  96., 119.,  94.,  74.,  40.,  19.,   5.]),\n",
       " array([-7.19344283, -0.06459779,  7.06424724, 14.19309228, 21.32193731,\n",
       "        28.45078235, 35.57962739, 42.70847242, 49.83731746, 56.96616249,\n",
       "        64.09500753]),\n",
       " <BarContainer object of 10 artists>)"
      ]
     },
     "execution_count": 66,
     "metadata": {},
     "output_type": "execute_result"
    },
    {
     "data": {
      "image/png": "[encoded data removed]",
      "text/plain": [
       "<Figure size 432x288 with 1 Axes>"
      ]
     },
     "metadata": {
      "needs_background": "light"
     },
     "output_type": "display_data"
    }
   ],
   "source": [
    "plt.hist(z_group[\"Age\"])"
   ]
  },
  {
   "cell_type": "code",
   "execution_count": 67,
   "id": "4edf4af0",
   "metadata": {},
   "outputs": [],
   "source": [
    "fill_na_mean = lambda x : x.fillna(x.mean())"
   ]
  },
  {
   "cell_type": "code",
   "execution_count": 68,
   "id": "278d3276",
   "metadata": {},
   "outputs": [
    {
     "data": {
      "text/html": [
       "<div>\n",
       "<style scoped>\n",
       "    .dataframe tbody tr th:only-of-type {\n",
       "        vertical-align: middle;\n",
       "    }\n",
       "\n",
       "    .dataframe tbody tr th {\n",
       "        vertical-align: top;\n",
       "    }\n",
       "\n",
       "    .dataframe thead th {\n",
       "        text-align: right;\n",
       "    }\n",
       "</style>\n",
       "<table border=\"1\" class=\"dataframe\">\n",
       "  <thead>\n",
       "    <tr style=\"text-align: right;\">\n",
       "      <th></th>\n",
       "      <th>Height</th>\n",
       "      <th>Weight</th>\n",
       "      <th>Age</th>\n",
       "      <th>Income</th>\n",
       "    </tr>\n",
       "  </thead>\n",
       "  <tbody>\n",
       "    <tr>\n",
       "      <th>0</th>\n",
       "      <td>111.201759</td>\n",
       "      <td>54.078101</td>\n",
       "      <td>25.650781</td>\n",
       "      <td>14980.307625</td>\n",
       "    </tr>\n",
       "    <tr>\n",
       "      <th>1</th>\n",
       "      <td>162.628905</td>\n",
       "      <td>87.691047</td>\n",
       "      <td>19.467758</td>\n",
       "      <td>18666.367856</td>\n",
       "    </tr>\n",
       "    <tr>\n",
       "      <th>2</th>\n",
       "      <td>144.432354</td>\n",
       "      <td>70.388319</td>\n",
       "      <td>55.731229</td>\n",
       "      <td>15138.875029</td>\n",
       "    </tr>\n",
       "    <tr>\n",
       "      <th>3</th>\n",
       "      <td>128.737562</td>\n",
       "      <td>83.424110</td>\n",
       "      <td>22.098764</td>\n",
       "      <td>20574.429844</td>\n",
       "    </tr>\n",
       "    <tr>\n",
       "      <th>4</th>\n",
       "      <td>159.570702</td>\n",
       "      <td>60.175639</td>\n",
       "      <td>43.076335</td>\n",
       "      <td>15989.972872</td>\n",
       "    </tr>\n",
       "    <tr>\n",
       "      <th>...</th>\n",
       "      <td>...</td>\n",
       "      <td>...</td>\n",
       "      <td>...</td>\n",
       "      <td>...</td>\n",
       "    </tr>\n",
       "    <tr>\n",
       "      <th>495</th>\n",
       "      <td>142.875186</td>\n",
       "      <td>103.226729</td>\n",
       "      <td>5.018675</td>\n",
       "      <td>21521.321871</td>\n",
       "    </tr>\n",
       "    <tr>\n",
       "      <th>496</th>\n",
       "      <td>166.187224</td>\n",
       "      <td>19.160802</td>\n",
       "      <td>18.191855</td>\n",
       "      <td>19651.429826</td>\n",
       "    </tr>\n",
       "    <tr>\n",
       "      <th>497</th>\n",
       "      <td>155.383884</td>\n",
       "      <td>98.701671</td>\n",
       "      <td>12.662825</td>\n",
       "      <td>21954.112315</td>\n",
       "    </tr>\n",
       "    <tr>\n",
       "      <th>498</th>\n",
       "      <td>210.641937</td>\n",
       "      <td>74.379595</td>\n",
       "      <td>37.181894</td>\n",
       "      <td>13744.326661</td>\n",
       "    </tr>\n",
       "    <tr>\n",
       "      <th>499</th>\n",
       "      <td>161.816351</td>\n",
       "      <td>62.708062</td>\n",
       "      <td>28.661034</td>\n",
       "      <td>14034.010692</td>\n",
       "    </tr>\n",
       "  </tbody>\n",
       "</table>\n",
       "<p>500 rows × 4 columns</p>\n",
       "</div>"
      ],
      "text/plain": [
       "         Height      Weight        Age        Income\n",
       "0    111.201759   54.078101  25.650781  14980.307625\n",
       "1    162.628905   87.691047  19.467758  18666.367856\n",
       "2    144.432354   70.388319  55.731229  15138.875029\n",
       "3    128.737562   83.424110  22.098764  20574.429844\n",
       "4    159.570702   60.175639  43.076335  15989.972872\n",
       "..          ...         ...        ...           ...\n",
       "495  142.875186  103.226729   5.018675  21521.321871\n",
       "496  166.187224   19.160802  18.191855  19651.429826\n",
       "497  155.383884   98.701671  12.662825  21954.112315\n",
       "498  210.641937   74.379595  37.181894  13744.326661\n",
       "499  161.816351   62.708062  28.661034  14034.010692\n",
       "\n",
       "[500 rows x 4 columns]"
      ]
     },
     "execution_count": 68,
     "metadata": {},
     "output_type": "execute_result"
    }
   ],
   "source": [
    "double_group.transform(fill_na_mean)"
   ]
  },
  {
   "cell_type": "markdown",
   "id": "f88b14af",
   "metadata": {},
   "source": [
    "## Operaciones diversas muy útiles"
   ]
  },
  {
   "cell_type": "code",
   "execution_count": 71,
   "id": "73c112c5",
   "metadata": {},
   "outputs": [
    {
     "data": {
      "text/html": [
       "<div>\n",
       "<style scoped>\n",
       "    .dataframe tbody tr th:only-of-type {\n",
       "        vertical-align: middle;\n",
       "    }\n",
       "\n",
       "    .dataframe tbody tr th {\n",
       "        vertical-align: top;\n",
       "    }\n",
       "\n",
       "    .dataframe thead th {\n",
       "        text-align: right;\n",
       "    }\n",
       "</style>\n",
       "<table border=\"1\" class=\"dataframe\">\n",
       "  <thead>\n",
       "    <tr style=\"text-align: right;\">\n",
       "      <th></th>\n",
       "      <th>Gender</th>\n",
       "      <th>Economic Status</th>\n",
       "      <th>Height</th>\n",
       "      <th>Weight</th>\n",
       "      <th>Age</th>\n",
       "      <th>Income</th>\n",
       "    </tr>\n",
       "  </thead>\n",
       "  <tbody>\n",
       "    <tr>\n",
       "      <th>0</th>\n",
       "      <td>Female</td>\n",
       "      <td>Rich</td>\n",
       "      <td>111.201759</td>\n",
       "      <td>54.078101</td>\n",
       "      <td>25.650781</td>\n",
       "      <td>14980.307625</td>\n",
       "    </tr>\n",
       "    <tr>\n",
       "      <th>1</th>\n",
       "      <td>Male</td>\n",
       "      <td>Rich</td>\n",
       "      <td>162.628905</td>\n",
       "      <td>87.691047</td>\n",
       "      <td>19.467758</td>\n",
       "      <td>18666.367856</td>\n",
       "    </tr>\n",
       "    <tr>\n",
       "      <th>4</th>\n",
       "      <td>Male</td>\n",
       "      <td>Middle Class</td>\n",
       "      <td>159.570702</td>\n",
       "      <td>60.175639</td>\n",
       "      <td>43.076335</td>\n",
       "      <td>15989.972872</td>\n",
       "    </tr>\n",
       "    <tr>\n",
       "      <th>6</th>\n",
       "      <td>Female</td>\n",
       "      <td>Middle Class</td>\n",
       "      <td>180.314703</td>\n",
       "      <td>26.880419</td>\n",
       "      <td>29.450223</td>\n",
       "      <td>20389.480912</td>\n",
       "    </tr>\n",
       "    <tr>\n",
       "      <th>9</th>\n",
       "      <td>Male</td>\n",
       "      <td>Poor</td>\n",
       "      <td>159.864715</td>\n",
       "      <td>90.318030</td>\n",
       "      <td>12.913661</td>\n",
       "      <td>17713.925528</td>\n",
       "    </tr>\n",
       "    <tr>\n",
       "      <th>10</th>\n",
       "      <td>Female</td>\n",
       "      <td>Poor</td>\n",
       "      <td>156.472643</td>\n",
       "      <td>94.931962</td>\n",
       "      <td>20.226043</td>\n",
       "      <td>15809.481473</td>\n",
       "    </tr>\n",
       "  </tbody>\n",
       "</table>\n",
       "</div>"
      ],
      "text/plain": [
       "    Gender Economic Status      Height     Weight        Age        Income\n",
       "0   Female            Rich  111.201759  54.078101  25.650781  14980.307625\n",
       "1     Male            Rich  162.628905  87.691047  19.467758  18666.367856\n",
       "4     Male    Middle Class  159.570702  60.175639  43.076335  15989.972872\n",
       "6   Female    Middle Class  180.314703  26.880419  29.450223  20389.480912\n",
       "9     Male            Poor  159.864715  90.318030  12.913661  17713.925528\n",
       "10  Female            Poor  156.472643  94.931962  20.226043  15809.481473"
      ]
     },
     "execution_count": 71,
     "metadata": {},
     "output_type": "execute_result"
    }
   ],
   "source": [
    "double_group.head(1)"
   ]
  },
  {
   "cell_type": "code",
   "execution_count": 73,
   "id": "d00e2d70",
   "metadata": {},
   "outputs": [
    {
     "data": {
      "text/html": [
       "<div>\n",
       "<style scoped>\n",
       "    .dataframe tbody tr th:only-of-type {\n",
       "        vertical-align: middle;\n",
       "    }\n",
       "\n",
       "    .dataframe tbody tr th {\n",
       "        vertical-align: top;\n",
       "    }\n",
       "\n",
       "    .dataframe thead th {\n",
       "        text-align: right;\n",
       "    }\n",
       "</style>\n",
       "<table border=\"1\" class=\"dataframe\">\n",
       "  <thead>\n",
       "    <tr style=\"text-align: right;\">\n",
       "      <th></th>\n",
       "      <th>Gender</th>\n",
       "      <th>Economic Status</th>\n",
       "      <th>Height</th>\n",
       "      <th>Weight</th>\n",
       "      <th>Age</th>\n",
       "      <th>Income</th>\n",
       "    </tr>\n",
       "  </thead>\n",
       "  <tbody>\n",
       "    <tr>\n",
       "      <th>486</th>\n",
       "      <td>Male</td>\n",
       "      <td>Poor</td>\n",
       "      <td>174.341103</td>\n",
       "      <td>16.306861</td>\n",
       "      <td>35.174851</td>\n",
       "      <td>19857.830257</td>\n",
       "    </tr>\n",
       "    <tr>\n",
       "      <th>488</th>\n",
       "      <td>Female</td>\n",
       "      <td>Rich</td>\n",
       "      <td>98.431184</td>\n",
       "      <td>34.690777</td>\n",
       "      <td>43.545820</td>\n",
       "      <td>13543.845700</td>\n",
       "    </tr>\n",
       "    <tr>\n",
       "      <th>491</th>\n",
       "      <td>Female</td>\n",
       "      <td>Poor</td>\n",
       "      <td>127.140627</td>\n",
       "      <td>97.133866</td>\n",
       "      <td>38.534877</td>\n",
       "      <td>19799.364609</td>\n",
       "    </tr>\n",
       "    <tr>\n",
       "      <th>497</th>\n",
       "      <td>Male</td>\n",
       "      <td>Middle Class</td>\n",
       "      <td>155.383884</td>\n",
       "      <td>98.701671</td>\n",
       "      <td>12.662825</td>\n",
       "      <td>21954.112315</td>\n",
       "    </tr>\n",
       "    <tr>\n",
       "      <th>498</th>\n",
       "      <td>Female</td>\n",
       "      <td>Middle Class</td>\n",
       "      <td>210.641937</td>\n",
       "      <td>74.379595</td>\n",
       "      <td>37.181894</td>\n",
       "      <td>13744.326661</td>\n",
       "    </tr>\n",
       "    <tr>\n",
       "      <th>499</th>\n",
       "      <td>Male</td>\n",
       "      <td>Rich</td>\n",
       "      <td>161.816351</td>\n",
       "      <td>62.708062</td>\n",
       "      <td>28.661034</td>\n",
       "      <td>14034.010692</td>\n",
       "    </tr>\n",
       "  </tbody>\n",
       "</table>\n",
       "</div>"
      ],
      "text/plain": [
       "     Gender Economic Status      Height     Weight        Age        Income\n",
       "486    Male            Poor  174.341103  16.306861  35.174851  19857.830257\n",
       "488  Female            Rich   98.431184  34.690777  43.545820  13543.845700\n",
       "491  Female            Poor  127.140627  97.133866  38.534877  19799.364609\n",
       "497    Male    Middle Class  155.383884  98.701671  12.662825  21954.112315\n",
       "498  Female    Middle Class  210.641937  74.379595  37.181894  13744.326661\n",
       "499    Male            Rich  161.816351  62.708062  28.661034  14034.010692"
      ]
     },
     "execution_count": 73,
     "metadata": {},
     "output_type": "execute_result"
    }
   ],
   "source": [
    "double_group.tail(1)"
   ]
  },
  {
   "cell_type": "code",
   "execution_count": 76,
   "id": "8b6c2bf1",
   "metadata": {},
   "outputs": [
    {
     "data": {
      "text/html": [
       "<div>\n",
       "<style scoped>\n",
       "    .dataframe tbody tr th:only-of-type {\n",
       "        vertical-align: middle;\n",
       "    }\n",
       "\n",
       "    .dataframe tbody tr th {\n",
       "        vertical-align: top;\n",
       "    }\n",
       "\n",
       "    .dataframe thead th {\n",
       "        text-align: right;\n",
       "    }\n",
       "</style>\n",
       "<table border=\"1\" class=\"dataframe\">\n",
       "  <thead>\n",
       "    <tr style=\"text-align: right;\">\n",
       "      <th></th>\n",
       "      <th></th>\n",
       "      <th>Height</th>\n",
       "      <th>Weight</th>\n",
       "      <th>Age</th>\n",
       "      <th>Income</th>\n",
       "    </tr>\n",
       "    <tr>\n",
       "      <th>Gender</th>\n",
       "      <th>Economic Status</th>\n",
       "      <th></th>\n",
       "      <th></th>\n",
       "      <th></th>\n",
       "      <th></th>\n",
       "    </tr>\n",
       "  </thead>\n",
       "  <tbody>\n",
       "    <tr>\n",
       "      <th rowspan=\"3\" valign=\"top\">Female</th>\n",
       "      <th>Middle Class</th>\n",
       "      <td>185.133870</td>\n",
       "      <td>67.291226</td>\n",
       "      <td>3.302667</td>\n",
       "      <td>13470.345674</td>\n",
       "    </tr>\n",
       "    <tr>\n",
       "      <th>Poor</th>\n",
       "      <td>167.443126</td>\n",
       "      <td>108.953588</td>\n",
       "      <td>12.209681</td>\n",
       "      <td>16428.847607</td>\n",
       "    </tr>\n",
       "    <tr>\n",
       "      <th>Rich</th>\n",
       "      <td>127.448071</td>\n",
       "      <td>67.649109</td>\n",
       "      <td>27.211189</td>\n",
       "      <td>13711.698936</td>\n",
       "    </tr>\n",
       "    <tr>\n",
       "      <th rowspan=\"3\" valign=\"top\">Male</th>\n",
       "      <th>Middle Class</th>\n",
       "      <td>155.453547</td>\n",
       "      <td>81.380846</td>\n",
       "      <td>26.529375</td>\n",
       "      <td>18733.517489</td>\n",
       "    </tr>\n",
       "    <tr>\n",
       "      <th>Poor</th>\n",
       "      <td>156.977177</td>\n",
       "      <td>87.487431</td>\n",
       "      <td>48.226020</td>\n",
       "      <td>16885.760175</td>\n",
       "    </tr>\n",
       "    <tr>\n",
       "      <th>Rich</th>\n",
       "      <td>145.398903</td>\n",
       "      <td>63.752151</td>\n",
       "      <td>29.647926</td>\n",
       "      <td>15118.696272</td>\n",
       "    </tr>\n",
       "  </tbody>\n",
       "</table>\n",
       "</div>"
      ],
      "text/plain": [
       "                            Height      Weight        Age        Income\n",
       "Gender Economic Status                                                 \n",
       "Female Middle Class     185.133870   67.291226   3.302667  13470.345674\n",
       "       Poor             167.443126  108.953588  12.209681  16428.847607\n",
       "       Rich             127.448071   67.649109  27.211189  13711.698936\n",
       "Male   Middle Class     155.453547   81.380846  26.529375  18733.517489\n",
       "       Poor             156.977177   87.487431  48.226020  16885.760175\n",
       "       Rich             145.398903   63.752151  29.647926  15118.696272"
      ]
     },
     "execution_count": 76,
     "metadata": {},
     "output_type": "execute_result"
    }
   ],
   "source": [
    "double_group.nth(32)"
   ]
  },
  {
   "cell_type": "code",
   "execution_count": 77,
   "id": "76f143f6",
   "metadata": {},
   "outputs": [],
   "source": [
    "data_sorted = data.sort_values([\"Age\",\"Income\"])"
   ]
  },
  {
   "cell_type": "code",
   "execution_count": 78,
   "id": "6ca90b0d",
   "metadata": {},
   "outputs": [
    {
     "data": {
      "text/html": [
       "<div>\n",
       "<style scoped>\n",
       "    .dataframe tbody tr th:only-of-type {\n",
       "        vertical-align: middle;\n",
       "    }\n",
       "\n",
       "    .dataframe tbody tr th {\n",
       "        vertical-align: top;\n",
       "    }\n",
       "\n",
       "    .dataframe thead th {\n",
       "        text-align: right;\n",
       "    }\n",
       "</style>\n",
       "<table border=\"1\" class=\"dataframe\">\n",
       "  <thead>\n",
       "    <tr style=\"text-align: right;\">\n",
       "      <th></th>\n",
       "      <th>Gender</th>\n",
       "      <th>Economic Status</th>\n",
       "      <th>Height</th>\n",
       "      <th>Weight</th>\n",
       "      <th>Age</th>\n",
       "      <th>Income</th>\n",
       "    </tr>\n",
       "  </thead>\n",
       "  <tbody>\n",
       "    <tr>\n",
       "      <th>428</th>\n",
       "      <td>Male</td>\n",
       "      <td>Rich</td>\n",
       "      <td>119.220121</td>\n",
       "      <td>80.935654</td>\n",
       "      <td>-4.800915</td>\n",
       "      <td>18562.533220</td>\n",
       "    </tr>\n",
       "    <tr>\n",
       "      <th>309</th>\n",
       "      <td>Female</td>\n",
       "      <td>Rich</td>\n",
       "      <td>196.615566</td>\n",
       "      <td>110.735002</td>\n",
       "      <td>-4.444313</td>\n",
       "      <td>19235.694112</td>\n",
       "    </tr>\n",
       "    <tr>\n",
       "      <th>304</th>\n",
       "      <td>Female</td>\n",
       "      <td>Rich</td>\n",
       "      <td>133.782823</td>\n",
       "      <td>104.312840</td>\n",
       "      <td>1.025325</td>\n",
       "      <td>14154.123064</td>\n",
       "    </tr>\n",
       "    <tr>\n",
       "      <th>93</th>\n",
       "      <td>Male</td>\n",
       "      <td>Poor</td>\n",
       "      <td>159.270784</td>\n",
       "      <td>27.139925</td>\n",
       "      <td>2.020903</td>\n",
       "      <td>24054.745909</td>\n",
       "    </tr>\n",
       "    <tr>\n",
       "      <th>387</th>\n",
       "      <td>Female</td>\n",
       "      <td>Rich</td>\n",
       "      <td>201.331123</td>\n",
       "      <td>56.470670</td>\n",
       "      <td>2.317296</td>\n",
       "      <td>21661.870836</td>\n",
       "    </tr>\n",
       "    <tr>\n",
       "      <th>186</th>\n",
       "      <td>Male</td>\n",
       "      <td>Poor</td>\n",
       "      <td>134.342945</td>\n",
       "      <td>86.199460</td>\n",
       "      <td>3.102315</td>\n",
       "      <td>24389.106481</td>\n",
       "    </tr>\n",
       "    <tr>\n",
       "      <th>171</th>\n",
       "      <td>Female</td>\n",
       "      <td>Middle Class</td>\n",
       "      <td>185.133870</td>\n",
       "      <td>67.291226</td>\n",
       "      <td>3.302667</td>\n",
       "      <td>13470.345674</td>\n",
       "    </tr>\n",
       "    <tr>\n",
       "      <th>221</th>\n",
       "      <td>Female</td>\n",
       "      <td>Rich</td>\n",
       "      <td>196.746783</td>\n",
       "      <td>57.544905</td>\n",
       "      <td>3.603333</td>\n",
       "      <td>14791.163352</td>\n",
       "    </tr>\n",
       "    <tr>\n",
       "      <th>443</th>\n",
       "      <td>Male</td>\n",
       "      <td>Rich</td>\n",
       "      <td>213.314091</td>\n",
       "      <td>59.871821</td>\n",
       "      <td>4.341740</td>\n",
       "      <td>16277.377067</td>\n",
       "    </tr>\n",
       "    <tr>\n",
       "      <th>137</th>\n",
       "      <td>Female</td>\n",
       "      <td>Rich</td>\n",
       "      <td>130.005261</td>\n",
       "      <td>70.298951</td>\n",
       "      <td>4.370022</td>\n",
       "      <td>19450.600954</td>\n",
       "    </tr>\n",
       "  </tbody>\n",
       "</table>\n",
       "</div>"
      ],
      "text/plain": [
       "     Gender Economic Status      Height      Weight       Age        Income\n",
       "428    Male            Rich  119.220121   80.935654 -4.800915  18562.533220\n",
       "309  Female            Rich  196.615566  110.735002 -4.444313  19235.694112\n",
       "304  Female            Rich  133.782823  104.312840  1.025325  14154.123064\n",
       "93     Male            Poor  159.270784   27.139925  2.020903  24054.745909\n",
       "387  Female            Rich  201.331123   56.470670  2.317296  21661.870836\n",
       "186    Male            Poor  134.342945   86.199460  3.102315  24389.106481\n",
       "171  Female    Middle Class  185.133870   67.291226  3.302667  13470.345674\n",
       "221  Female            Rich  196.746783   57.544905  3.603333  14791.163352\n",
       "443    Male            Rich  213.314091   59.871821  4.341740  16277.377067\n",
       "137  Female            Rich  130.005261   70.298951  4.370022  19450.600954"
      ]
     },
     "execution_count": 78,
     "metadata": {},
     "output_type": "execute_result"
    }
   ],
   "source": [
    "data_sorted.head(10)"
   ]
  },
  {
   "cell_type": "code",
   "execution_count": 79,
   "id": "7c4d4d2e",
   "metadata": {},
   "outputs": [],
   "source": [
    "age_grouped = data_sorted.groupby(\"Gender\")"
   ]
  },
  {
   "cell_type": "code",
   "execution_count": 80,
   "id": "d480fd08",
   "metadata": {},
   "outputs": [
    {
     "data": {
      "text/html": [
       "<div>\n",
       "<style scoped>\n",
       "    .dataframe tbody tr th:only-of-type {\n",
       "        vertical-align: middle;\n",
       "    }\n",
       "\n",
       "    .dataframe tbody tr th {\n",
       "        vertical-align: top;\n",
       "    }\n",
       "\n",
       "    .dataframe thead th {\n",
       "        text-align: right;\n",
       "    }\n",
       "</style>\n",
       "<table border=\"1\" class=\"dataframe\">\n",
       "  <thead>\n",
       "    <tr style=\"text-align: right;\">\n",
       "      <th></th>\n",
       "      <th>Gender</th>\n",
       "      <th>Economic Status</th>\n",
       "      <th>Height</th>\n",
       "      <th>Weight</th>\n",
       "      <th>Age</th>\n",
       "      <th>Income</th>\n",
       "    </tr>\n",
       "  </thead>\n",
       "  <tbody>\n",
       "    <tr>\n",
       "      <th>428</th>\n",
       "      <td>Male</td>\n",
       "      <td>Rich</td>\n",
       "      <td>119.220121</td>\n",
       "      <td>80.935654</td>\n",
       "      <td>-4.800915</td>\n",
       "      <td>18562.533220</td>\n",
       "    </tr>\n",
       "    <tr>\n",
       "      <th>309</th>\n",
       "      <td>Female</td>\n",
       "      <td>Rich</td>\n",
       "      <td>196.615566</td>\n",
       "      <td>110.735002</td>\n",
       "      <td>-4.444313</td>\n",
       "      <td>19235.694112</td>\n",
       "    </tr>\n",
       "    <tr>\n",
       "      <th>304</th>\n",
       "      <td>Female</td>\n",
       "      <td>Rich</td>\n",
       "      <td>133.782823</td>\n",
       "      <td>104.312840</td>\n",
       "      <td>1.025325</td>\n",
       "      <td>14154.123064</td>\n",
       "    </tr>\n",
       "    <tr>\n",
       "      <th>93</th>\n",
       "      <td>Male</td>\n",
       "      <td>Poor</td>\n",
       "      <td>159.270784</td>\n",
       "      <td>27.139925</td>\n",
       "      <td>2.020903</td>\n",
       "      <td>24054.745909</td>\n",
       "    </tr>\n",
       "    <tr>\n",
       "      <th>387</th>\n",
       "      <td>Female</td>\n",
       "      <td>Rich</td>\n",
       "      <td>201.331123</td>\n",
       "      <td>56.470670</td>\n",
       "      <td>2.317296</td>\n",
       "      <td>21661.870836</td>\n",
       "    </tr>\n",
       "    <tr>\n",
       "      <th>186</th>\n",
       "      <td>Male</td>\n",
       "      <td>Poor</td>\n",
       "      <td>134.342945</td>\n",
       "      <td>86.199460</td>\n",
       "      <td>3.102315</td>\n",
       "      <td>24389.106481</td>\n",
       "    </tr>\n",
       "    <tr>\n",
       "      <th>171</th>\n",
       "      <td>Female</td>\n",
       "      <td>Middle Class</td>\n",
       "      <td>185.133870</td>\n",
       "      <td>67.291226</td>\n",
       "      <td>3.302667</td>\n",
       "      <td>13470.345674</td>\n",
       "    </tr>\n",
       "    <tr>\n",
       "      <th>221</th>\n",
       "      <td>Female</td>\n",
       "      <td>Rich</td>\n",
       "      <td>196.746783</td>\n",
       "      <td>57.544905</td>\n",
       "      <td>3.603333</td>\n",
       "      <td>14791.163352</td>\n",
       "    </tr>\n",
       "    <tr>\n",
       "      <th>443</th>\n",
       "      <td>Male</td>\n",
       "      <td>Rich</td>\n",
       "      <td>213.314091</td>\n",
       "      <td>59.871821</td>\n",
       "      <td>4.341740</td>\n",
       "      <td>16277.377067</td>\n",
       "    </tr>\n",
       "    <tr>\n",
       "      <th>129</th>\n",
       "      <td>Male</td>\n",
       "      <td>Rich</td>\n",
       "      <td>157.533010</td>\n",
       "      <td>93.360659</td>\n",
       "      <td>4.424908</td>\n",
       "      <td>17675.591916</td>\n",
       "    </tr>\n",
       "  </tbody>\n",
       "</table>\n",
       "</div>"
      ],
      "text/plain": [
       "     Gender Economic Status      Height      Weight       Age        Income\n",
       "428    Male            Rich  119.220121   80.935654 -4.800915  18562.533220\n",
       "309  Female            Rich  196.615566  110.735002 -4.444313  19235.694112\n",
       "304  Female            Rich  133.782823  104.312840  1.025325  14154.123064\n",
       "93     Male            Poor  159.270784   27.139925  2.020903  24054.745909\n",
       "387  Female            Rich  201.331123   56.470670  2.317296  21661.870836\n",
       "186    Male            Poor  134.342945   86.199460  3.102315  24389.106481\n",
       "171  Female    Middle Class  185.133870   67.291226  3.302667  13470.345674\n",
       "221  Female            Rich  196.746783   57.544905  3.603333  14791.163352\n",
       "443    Male            Rich  213.314091   59.871821  4.341740  16277.377067\n",
       "129    Male            Rich  157.533010   93.360659  4.424908  17675.591916"
      ]
     },
     "execution_count": 80,
     "metadata": {},
     "output_type": "execute_result"
    }
   ],
   "source": [
    "age_grouped.head()"
   ]
  },
  {
   "cell_type": "code",
   "execution_count": 81,
   "id": "dc7a2dd6",
   "metadata": {},
   "outputs": [
    {
     "data": {
      "text/html": [
       "<div>\n",
       "<style scoped>\n",
       "    .dataframe tbody tr th:only-of-type {\n",
       "        vertical-align: middle;\n",
       "    }\n",
       "\n",
       "    .dataframe tbody tr th {\n",
       "        vertical-align: top;\n",
       "    }\n",
       "\n",
       "    .dataframe thead th {\n",
       "        text-align: right;\n",
       "    }\n",
       "</style>\n",
       "<table border=\"1\" class=\"dataframe\">\n",
       "  <thead>\n",
       "    <tr style=\"text-align: right;\">\n",
       "      <th></th>\n",
       "      <th>Gender</th>\n",
       "      <th>Economic Status</th>\n",
       "      <th>Height</th>\n",
       "      <th>Weight</th>\n",
       "      <th>Age</th>\n",
       "      <th>Income</th>\n",
       "    </tr>\n",
       "  </thead>\n",
       "  <tbody>\n",
       "    <tr>\n",
       "      <th>474</th>\n",
       "      <td>Male</td>\n",
       "      <td>Poor</td>\n",
       "      <td>161.944927</td>\n",
       "      <td>69.998766</td>\n",
       "      <td>59.445251</td>\n",
       "      <td>19238.197894</td>\n",
       "    </tr>\n",
       "    <tr>\n",
       "      <th>373</th>\n",
       "      <td>Female</td>\n",
       "      <td>Rich</td>\n",
       "      <td>165.964909</td>\n",
       "      <td>47.465532</td>\n",
       "      <td>66.269160</td>\n",
       "      <td>19627.706830</td>\n",
       "    </tr>\n",
       "  </tbody>\n",
       "</table>\n",
       "</div>"
      ],
      "text/plain": [
       "     Gender Economic Status      Height     Weight        Age        Income\n",
       "474    Male            Poor  161.944927  69.998766  59.445251  19238.197894\n",
       "373  Female            Rich  165.964909  47.465532  66.269160  19627.706830"
      ]
     },
     "execution_count": 81,
     "metadata": {},
     "output_type": "execute_result"
    }
   ],
   "source": [
    "age_grouped.tail(1)"
   ]
  },
  {
   "cell_type": "markdown",
   "id": "7d85460d",
   "metadata": {},
   "source": [
    "## Conjunto de entrenamiento y conjunto de testing"
   ]
  },
  {
   "cell_type": "code",
   "execution_count": 97,
   "id": "2eda6bdf",
   "metadata": {},
   "outputs": [],
   "source": [
    "data = pd.read_csv(\"../datasets/customer-churn-model/Customer Churn Model.txt\")"
   ]
  },
  {
   "cell_type": "code",
   "execution_count": 98,
   "id": "b4b3eea8",
   "metadata": {},
   "outputs": [
    {
     "data": {
      "text/plain": [
       "3333"
      ]
     },
     "execution_count": 98,
     "metadata": {},
     "output_type": "execute_result"
    }
   ],
   "source": [
    "len(data)"
   ]
  },
  {
   "cell_type": "markdown",
   "id": "fbcd2b24",
   "metadata": {},
   "source": [
    "### Dividir utilizandpo la distribucion normal"
   ]
  },
  {
   "cell_type": "code",
   "execution_count": 99,
   "id": "d470718f",
   "metadata": {},
   "outputs": [],
   "source": [
    "a = np.random.randn(len(data))"
   ]
  },
  {
   "cell_type": "code",
   "execution_count": 100,
   "id": "4aa50111",
   "metadata": {},
   "outputs": [
    {
     "data": {
      "text/plain": [
       "(array([  6.,  39., 219., 555., 911., 888., 492., 173.,  40.,  10.]),\n",
       " array([-3.62119084, -2.8915874 , -2.16198396, -1.43238052, -0.70277708,\n",
       "         0.02682636,  0.7564298 ,  1.48603323,  2.21563667,  2.94524011,\n",
       "         3.67484355]),\n",
       " <BarContainer object of 10 artists>)"
      ]
     },
     "execution_count": 100,
     "metadata": {},
     "output_type": "execute_result"
    },
    {
     "data": {
      "image/png": "[encoded data removed]",
      "text/plain": [
       "<Figure size 432x288 with 1 Axes>"
      ]
     },
     "metadata": {
      "needs_background": "light"
     },
     "output_type": "display_data"
    }
   ],
   "source": [
    "plt.hist(a)"
   ]
  },
  {
   "cell_type": "code",
   "execution_count": 122,
   "id": "d35bbda2",
   "metadata": {},
   "outputs": [],
   "source": [
    "check1 = (a < 0.8)"
   ]
  },
  {
   "cell_type": "code",
   "execution_count": 123,
   "id": "fea07a03",
   "metadata": {},
   "outputs": [
    {
     "data": {
      "text/plain": [
       "array([ True,  True,  True, ...,  True,  True,  True])"
      ]
     },
     "execution_count": 123,
     "metadata": {},
     "output_type": "execute_result"
    }
   ],
   "source": [
    "check1"
   ]
  },
  {
   "cell_type": "code",
   "execution_count": 121,
   "id": "fb2b0909",
   "metadata": {},
   "outputs": [
    {
     "data": {
      "text/plain": [
       "(array([[1.631e+03, 1.702e+03, 0.000e+00, 0.000e+00, 0.000e+00, 0.000e+00,\n",
       "         0.000e+00, 0.000e+00, 0.000e+00, 0.000e+00],\n",
       "        [0.000e+00, 0.000e+00, 0.000e+00, 0.000e+00, 0.000e+00, 0.000e+00,\n",
       "         0.000e+00, 0.000e+00, 0.000e+00, 1.000e+00]]),\n",
       " array([0. , 0.8, 1.6, 2.4, 3.2, 4. , 4.8, 5.6, 6.4, 7.2, 8. ]),\n",
       " <a list of 2 BarContainer objects>)"
      ]
     },
     "execution_count": 121,
     "metadata": {},
     "output_type": "execute_result"
    },
    {
     "data": {
      "image/png": "[encoded data removed]",
      "text/plain": [
       "<Figure size 432x288 with 1 Axes>"
      ]
     },
     "metadata": {
      "needs_background": "light"
     },
     "output_type": "display_data"
    }
   ],
   "source": [
    "plt.hist(check1)"
   ]
  },
  {
   "cell_type": "code",
   "execution_count": 124,
   "id": "07c09ea3",
   "metadata": {},
   "outputs": [],
   "source": [
    "training = data[check1]\n",
    "testing = data[~check1]"
   ]
  },
  {
   "cell_type": "code",
   "execution_count": 133,
   "id": "365b2627",
   "metadata": {},
   "outputs": [
    {
     "data": {
      "text/plain": [
       "2656"
      ]
     },
     "execution_count": 133,
     "metadata": {},
     "output_type": "execute_result"
    }
   ],
   "source": [
    "len(training)"
   ]
  },
  {
   "cell_type": "code",
   "execution_count": 126,
   "id": "b2e5d3a1",
   "metadata": {},
   "outputs": [
    {
     "data": {
      "text/plain": [
       "677"
      ]
     },
     "execution_count": 126,
     "metadata": {},
     "output_type": "execute_result"
    }
   ],
   "source": [
    "len(testing)"
   ]
  },
  {
   "cell_type": "markdown",
   "id": "2893aeae",
   "metadata": {},
   "source": [
    "## Con la libreria sklearn"
   ]
  },
  {
   "cell_type": "code",
   "execution_count": 129,
   "id": "ce28c941",
   "metadata": {},
   "outputs": [],
   "source": [
    "from sklearn.model_selection import train_test_split"
   ]
  },
  {
   "cell_type": "code",
   "execution_count": 130,
   "id": "7c6b473c",
   "metadata": {},
   "outputs": [],
   "source": [
    "train, test = train_test_split(data, test_size = 0.2)"
   ]
  },
  {
   "cell_type": "code",
   "execution_count": 131,
   "id": "52e2b0f1",
   "metadata": {},
   "outputs": [
    {
     "data": {
      "text/plain": [
       "2666"
      ]
     },
     "execution_count": 131,
     "metadata": {},
     "output_type": "execute_result"
    }
   ],
   "source": [
    "len(train)"
   ]
  },
  {
   "cell_type": "code",
   "execution_count": 132,
   "id": "bc18ac59",
   "metadata": {},
   "outputs": [
    {
     "data": {
      "text/plain": [
       "667"
      ]
     },
     "execution_count": 132,
     "metadata": {},
     "output_type": "execute_result"
    }
   ],
   "source": [
    "len(test)"
   ]
  },
  {
   "cell_type": "markdown",
   "id": "a6463934",
   "metadata": {},
   "source": [
    "## Usando una función de shuffle"
   ]
  },
  {
   "cell_type": "code",
   "execution_count": 134,
   "id": "2c41ea1e",
   "metadata": {},
   "outputs": [
    {
     "data": {
      "text/html": [
       "<div>\n",
       "<style scoped>\n",
       "    .dataframe tbody tr th:only-of-type {\n",
       "        vertical-align: middle;\n",
       "    }\n",
       "\n",
       "    .dataframe tbody tr th {\n",
       "        vertical-align: top;\n",
       "    }\n",
       "\n",
       "    .dataframe thead th {\n",
       "        text-align: right;\n",
       "    }\n",
       "</style>\n",
       "<table border=\"1\" class=\"dataframe\">\n",
       "  <thead>\n",
       "    <tr style=\"text-align: right;\">\n",
       "      <th></th>\n",
       "      <th>State</th>\n",
       "      <th>Account Length</th>\n",
       "      <th>Area Code</th>\n",
       "      <th>Phone</th>\n",
       "      <th>Int'l Plan</th>\n",
       "      <th>VMail Plan</th>\n",
       "      <th>VMail Message</th>\n",
       "      <th>Day Mins</th>\n",
       "      <th>Day Calls</th>\n",
       "      <th>Day Charge</th>\n",
       "      <th>...</th>\n",
       "      <th>Eve Calls</th>\n",
       "      <th>Eve Charge</th>\n",
       "      <th>Night Mins</th>\n",
       "      <th>Night Calls</th>\n",
       "      <th>Night Charge</th>\n",
       "      <th>Intl Mins</th>\n",
       "      <th>Intl Calls</th>\n",
       "      <th>Intl Charge</th>\n",
       "      <th>CustServ Calls</th>\n",
       "      <th>Churn?</th>\n",
       "    </tr>\n",
       "  </thead>\n",
       "  <tbody>\n",
       "    <tr>\n",
       "      <th>0</th>\n",
       "      <td>KS</td>\n",
       "      <td>128</td>\n",
       "      <td>415</td>\n",
       "      <td>382-4657</td>\n",
       "      <td>no</td>\n",
       "      <td>yes</td>\n",
       "      <td>25</td>\n",
       "      <td>265.1</td>\n",
       "      <td>110</td>\n",
       "      <td>45.07</td>\n",
       "      <td>...</td>\n",
       "      <td>99</td>\n",
       "      <td>16.78</td>\n",
       "      <td>244.7</td>\n",
       "      <td>91</td>\n",
       "      <td>11.01</td>\n",
       "      <td>10.0</td>\n",
       "      <td>3</td>\n",
       "      <td>2.70</td>\n",
       "      <td>1</td>\n",
       "      <td>False.</td>\n",
       "    </tr>\n",
       "    <tr>\n",
       "      <th>1</th>\n",
       "      <td>OH</td>\n",
       "      <td>107</td>\n",
       "      <td>415</td>\n",
       "      <td>371-7191</td>\n",
       "      <td>no</td>\n",
       "      <td>yes</td>\n",
       "      <td>26</td>\n",
       "      <td>161.6</td>\n",
       "      <td>123</td>\n",
       "      <td>27.47</td>\n",
       "      <td>...</td>\n",
       "      <td>103</td>\n",
       "      <td>16.62</td>\n",
       "      <td>254.4</td>\n",
       "      <td>103</td>\n",
       "      <td>11.45</td>\n",
       "      <td>13.7</td>\n",
       "      <td>3</td>\n",
       "      <td>3.70</td>\n",
       "      <td>1</td>\n",
       "      <td>False.</td>\n",
       "    </tr>\n",
       "    <tr>\n",
       "      <th>2</th>\n",
       "      <td>NJ</td>\n",
       "      <td>137</td>\n",
       "      <td>415</td>\n",
       "      <td>358-1921</td>\n",
       "      <td>no</td>\n",
       "      <td>no</td>\n",
       "      <td>0</td>\n",
       "      <td>243.4</td>\n",
       "      <td>114</td>\n",
       "      <td>41.38</td>\n",
       "      <td>...</td>\n",
       "      <td>110</td>\n",
       "      <td>10.30</td>\n",
       "      <td>162.6</td>\n",
       "      <td>104</td>\n",
       "      <td>7.32</td>\n",
       "      <td>12.2</td>\n",
       "      <td>5</td>\n",
       "      <td>3.29</td>\n",
       "      <td>0</td>\n",
       "      <td>False.</td>\n",
       "    </tr>\n",
       "    <tr>\n",
       "      <th>3</th>\n",
       "      <td>OH</td>\n",
       "      <td>84</td>\n",
       "      <td>408</td>\n",
       "      <td>375-9999</td>\n",
       "      <td>yes</td>\n",
       "      <td>no</td>\n",
       "      <td>0</td>\n",
       "      <td>299.4</td>\n",
       "      <td>71</td>\n",
       "      <td>50.90</td>\n",
       "      <td>...</td>\n",
       "      <td>88</td>\n",
       "      <td>5.26</td>\n",
       "      <td>196.9</td>\n",
       "      <td>89</td>\n",
       "      <td>8.86</td>\n",
       "      <td>6.6</td>\n",
       "      <td>7</td>\n",
       "      <td>1.78</td>\n",
       "      <td>2</td>\n",
       "      <td>False.</td>\n",
       "    </tr>\n",
       "    <tr>\n",
       "      <th>4</th>\n",
       "      <td>OK</td>\n",
       "      <td>75</td>\n",
       "      <td>415</td>\n",
       "      <td>330-6626</td>\n",
       "      <td>yes</td>\n",
       "      <td>no</td>\n",
       "      <td>0</td>\n",
       "      <td>166.7</td>\n",
       "      <td>113</td>\n",
       "      <td>28.34</td>\n",
       "      <td>...</td>\n",
       "      <td>122</td>\n",
       "      <td>12.61</td>\n",
       "      <td>186.9</td>\n",
       "      <td>121</td>\n",
       "      <td>8.41</td>\n",
       "      <td>10.1</td>\n",
       "      <td>3</td>\n",
       "      <td>2.73</td>\n",
       "      <td>3</td>\n",
       "      <td>False.</td>\n",
       "    </tr>\n",
       "  </tbody>\n",
       "</table>\n",
       "<p>5 rows × 21 columns</p>\n",
       "</div>"
      ],
      "text/plain": [
       "  State  Account Length  Area Code     Phone Int'l Plan VMail Plan  \\\n",
       "0    KS             128        415  382-4657         no        yes   \n",
       "1    OH             107        415  371-7191         no        yes   \n",
       "2    NJ             137        415  358-1921         no         no   \n",
       "3    OH              84        408  375-9999        yes         no   \n",
       "4    OK              75        415  330-6626        yes         no   \n",
       "\n",
       "   VMail Message  Day Mins  Day Calls  Day Charge  ...  Eve Calls  Eve Charge  \\\n",
       "0             25     265.1        110       45.07  ...         99       16.78   \n",
       "1             26     161.6        123       27.47  ...        103       16.62   \n",
       "2              0     243.4        114       41.38  ...        110       10.30   \n",
       "3              0     299.4         71       50.90  ...         88        5.26   \n",
       "4              0     166.7        113       28.34  ...        122       12.61   \n",
       "\n",
       "   Night Mins  Night Calls  Night Charge  Intl Mins  Intl Calls  Intl Charge  \\\n",
       "0       244.7           91         11.01       10.0           3         2.70   \n",
       "1       254.4          103         11.45       13.7           3         3.70   \n",
       "2       162.6          104          7.32       12.2           5         3.29   \n",
       "3       196.9           89          8.86        6.6           7         1.78   \n",
       "4       186.9          121          8.41       10.1           3         2.73   \n",
       "\n",
       "   CustServ Calls  Churn?  \n",
       "0               1  False.  \n",
       "1               1  False.  \n",
       "2               0  False.  \n",
       "3               2  False.  \n",
       "4               3  False.  \n",
       "\n",
       "[5 rows x 21 columns]"
      ]
     },
     "execution_count": 134,
     "metadata": {},
     "output_type": "execute_result"
    }
   ],
   "source": [
    "data.head()"
   ]
  },
  {
   "cell_type": "code",
   "execution_count": 136,
   "id": "086a1a68",
   "metadata": {},
   "outputs": [],
   "source": [
    "import sklearn"
   ]
  },
  {
   "cell_type": "code",
   "execution_count": 138,
   "id": "4f6bdb8f",
   "metadata": {},
   "outputs": [],
   "source": [
    "data = sklearn.utils.shuffle(data)"
   ]
  },
  {
   "cell_type": "code",
   "execution_count": 139,
   "id": "a2e58887",
   "metadata": {},
   "outputs": [],
   "source": [
    "cut_id = int(0.75*len(data))\n",
    "train_data = data[:cut_id]\n",
    "test_data = data[cut_id+1:]"
   ]
  },
  {
   "cell_type": "code",
   "execution_count": 140,
   "id": "d6c5fba4",
   "metadata": {},
   "outputs": [
    {
     "data": {
      "text/plain": [
       "2499"
      ]
     },
     "execution_count": 140,
     "metadata": {},
     "output_type": "execute_result"
    }
   ],
   "source": [
    "len(train_data)"
   ]
  },
  {
   "cell_type": "code",
   "execution_count": 141,
   "id": "6ac0f15e",
   "metadata": {},
   "outputs": [
    {
     "data": {
      "text/plain": [
       "833"
      ]
     },
     "execution_count": 141,
     "metadata": {},
     "output_type": "execute_result"
    }
   ],
   "source": [
    "len(test_data)"
   ]
  },
  {
   "cell_type": "markdown",
   "id": "a5cb6a42",
   "metadata": {},
   "source": []
  }
 ],
 "metadata": {
  "kernelspec": {
   "display_name": "Python 3",
   "language": "python",
   "name": "python3"
  },
  "language_info": {
   "codemirror_mode": {
    "name": "ipython",
    "version": 3
   },
   "file_extension": ".py",
   "mimetype": "text/x-python",
   "name": "python",
   "nbconvert_exporter": "python",
   "pygments_lexer": "ipython3",
   "version": "3.8.10"
  }
 },
 "nbformat": 4,
 "nbformat_minor": 5
}
